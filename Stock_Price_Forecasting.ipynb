{
 "cells": [
  {
   "cell_type": "markdown",
   "id": "2c443032-6026-4636-b540-16a9ed7b02fb",
   "metadata": {},
   "source": [
    "## **Stock Price Forecasting with LSTMs**\n",
    "#### In this tutorial we show how a simple LSTM can predict stock prices in the short term.\n",
    "\n",
    "#### A Long-Short Term Memory (LSTM) is a type of Recurrent Neural Network that is specially suited for time-series prediction problems. It is internally composed by two kind of units, hidden units, which as in CNNs contain a hidden representation of the inputs, and gated units, which control the amount of information that flows from the inputs, to the hidden units and to the outputs.\n",
    "\n",
    "#### The gated structure of LSTMs, make them very efficient when working with large time series. They are able to understand long-term dependencies in temporal data, controlling which information should be \"remembered\" and which \"forgotted\".\n",
    "\n",
    "#### In the present tutorial we use Keras with Tensorflow back-end to predict the stock prices of Microsoft from 2012 to 2017. We experiment with an LSTM and two variants of the same family: Bi-directional LSTM and GRU.\n"
   ]
  },
  {
   "cell_type": "code",
   "execution_count": 2,
   "id": "7f59cba7-1b18-48a4-9541-fca843402046",
   "metadata": {},
   "outputs": [
    {
     "name": "stdout",
     "output_type": "stream",
     "text": [
      "Collecting keras\n",
      "  Downloading keras-3.10.0-py3-none-any.whl.metadata (6.0 kB)\n",
      "Collecting tensorflow\n",
      "  Downloading tensorflow-2.19.0-cp312-cp312-win_amd64.whl.metadata (4.1 kB)\n",
      "Collecting absl-py (from keras)\n",
      "  Downloading absl_py-2.3.0-py3-none-any.whl.metadata (2.4 kB)\n",
      "Requirement already satisfied: numpy in c:\\users\\andyv\\anaconda3\\lib\\site-packages (from keras) (1.26.4)\n",
      "Requirement already satisfied: rich in c:\\users\\andyv\\anaconda3\\lib\\site-packages (from keras) (13.7.1)\n",
      "Collecting namex (from keras)\n",
      "  Downloading namex-0.1.0-py3-none-any.whl.metadata (322 bytes)\n",
      "Requirement already satisfied: h5py in c:\\users\\andyv\\anaconda3\\lib\\site-packages (from keras) (3.11.0)\n",
      "Collecting optree (from keras)\n",
      "  Downloading optree-0.16.0-cp312-cp312-win_amd64.whl.metadata (31 kB)\n",
      "Collecting ml-dtypes (from keras)\n",
      "  Downloading ml_dtypes-0.5.1-cp312-cp312-win_amd64.whl.metadata (22 kB)\n",
      "Requirement already satisfied: packaging in c:\\users\\andyv\\anaconda3\\lib\\site-packages (from keras) (24.1)\n",
      "Collecting astunparse>=1.6.0 (from tensorflow)\n",
      "  Downloading astunparse-1.6.3-py2.py3-none-any.whl.metadata (4.4 kB)\n",
      "Collecting flatbuffers>=24.3.25 (from tensorflow)\n",
      "  Downloading flatbuffers-25.2.10-py2.py3-none-any.whl.metadata (875 bytes)\n",
      "Collecting gast!=0.5.0,!=0.5.1,!=0.5.2,>=0.2.1 (from tensorflow)\n",
      "  Downloading gast-0.6.0-py3-none-any.whl.metadata (1.3 kB)\n",
      "Collecting google-pasta>=0.1.1 (from tensorflow)\n",
      "  Downloading google_pasta-0.2.0-py3-none-any.whl.metadata (814 bytes)\n",
      "Collecting libclang>=13.0.0 (from tensorflow)\n",
      "  Downloading libclang-18.1.1-py2.py3-none-win_amd64.whl.metadata (5.3 kB)\n",
      "Collecting opt-einsum>=2.3.2 (from tensorflow)\n",
      "  Downloading opt_einsum-3.4.0-py3-none-any.whl.metadata (6.3 kB)\n",
      "Requirement already satisfied: protobuf!=4.21.0,!=4.21.1,!=4.21.2,!=4.21.3,!=4.21.4,!=4.21.5,<6.0.0dev,>=3.20.3 in c:\\users\\andyv\\anaconda3\\lib\\site-packages (from tensorflow) (4.25.3)\n",
      "Requirement already satisfied: requests<3,>=2.21.0 in c:\\users\\andyv\\anaconda3\\lib\\site-packages (from tensorflow) (2.32.3)\n",
      "Requirement already satisfied: setuptools in c:\\users\\andyv\\anaconda3\\lib\\site-packages (from tensorflow) (75.1.0)\n",
      "Requirement already satisfied: six>=1.12.0 in c:\\users\\andyv\\anaconda3\\lib\\site-packages (from tensorflow) (1.16.0)\n",
      "Collecting termcolor>=1.1.0 (from tensorflow)\n",
      "  Downloading termcolor-3.1.0-py3-none-any.whl.metadata (6.4 kB)\n",
      "Requirement already satisfied: typing-extensions>=3.6.6 in c:\\users\\andyv\\anaconda3\\lib\\site-packages (from tensorflow) (4.11.0)\n",
      "Requirement already satisfied: wrapt>=1.11.0 in c:\\users\\andyv\\anaconda3\\lib\\site-packages (from tensorflow) (1.14.1)\n",
      "Collecting grpcio<2.0,>=1.24.3 (from tensorflow)\n",
      "  Downloading grpcio-1.73.0-cp312-cp312-win_amd64.whl.metadata (4.0 kB)\n",
      "Collecting tensorboard~=2.19.0 (from tensorflow)\n",
      "  Downloading tensorboard-2.19.0-py3-none-any.whl.metadata (1.8 kB)\n",
      "Requirement already satisfied: wheel<1.0,>=0.23.0 in c:\\users\\andyv\\anaconda3\\lib\\site-packages (from astunparse>=1.6.0->tensorflow) (0.44.0)\n",
      "Requirement already satisfied: charset-normalizer<4,>=2 in c:\\users\\andyv\\anaconda3\\lib\\site-packages (from requests<3,>=2.21.0->tensorflow) (3.3.2)\n",
      "Requirement already satisfied: idna<4,>=2.5 in c:\\users\\andyv\\anaconda3\\lib\\site-packages (from requests<3,>=2.21.0->tensorflow) (3.7)\n",
      "Requirement already satisfied: urllib3<3,>=1.21.1 in c:\\users\\andyv\\anaconda3\\lib\\site-packages (from requests<3,>=2.21.0->tensorflow) (2.2.3)\n",
      "Requirement already satisfied: certifi>=2017.4.17 in c:\\users\\andyv\\anaconda3\\lib\\site-packages (from requests<3,>=2.21.0->tensorflow) (2024.8.30)\n",
      "Requirement already satisfied: markdown>=2.6.8 in c:\\users\\andyv\\anaconda3\\lib\\site-packages (from tensorboard~=2.19.0->tensorflow) (3.4.1)\n",
      "Collecting tensorboard-data-server<0.8.0,>=0.7.0 (from tensorboard~=2.19.0->tensorflow)\n",
      "  Downloading tensorboard_data_server-0.7.2-py3-none-any.whl.metadata (1.1 kB)\n",
      "Requirement already satisfied: werkzeug>=1.0.1 in c:\\users\\andyv\\anaconda3\\lib\\site-packages (from tensorboard~=2.19.0->tensorflow) (3.0.3)\n",
      "Requirement already satisfied: markdown-it-py>=2.2.0 in c:\\users\\andyv\\anaconda3\\lib\\site-packages (from rich->keras) (2.2.0)\n",
      "Requirement already satisfied: pygments<3.0.0,>=2.13.0 in c:\\users\\andyv\\anaconda3\\lib\\site-packages (from rich->keras) (2.15.1)\n",
      "Requirement already satisfied: mdurl~=0.1 in c:\\users\\andyv\\anaconda3\\lib\\site-packages (from markdown-it-py>=2.2.0->rich->keras) (0.1.0)\n",
      "Requirement already satisfied: MarkupSafe>=2.1.1 in c:\\users\\andyv\\anaconda3\\lib\\site-packages (from werkzeug>=1.0.1->tensorboard~=2.19.0->tensorflow) (2.1.3)\n",
      "Downloading keras-3.10.0-py3-none-any.whl (1.4 MB)\n",
      "   ---------------------------------------- 0.0/1.4 MB ? eta -:--:--\n",
      "   ------- -------------------------------- 0.3/1.4 MB ? eta -:--:--\n",
      "   ---------------------------------------- 1.4/1.4 MB 5.1 MB/s eta 0:00:00\n",
      "Downloading tensorflow-2.19.0-cp312-cp312-win_amd64.whl (376.0 MB)\n",
      "   ---------------------------------------- 0.0/376.0 MB ? eta -:--:--\n",
      "   ---------------------------------------- 1.8/376.0 MB 9.1 MB/s eta 0:00:41\n",
      "   ---------------------------------------- 3.7/376.0 MB 9.1 MB/s eta 0:00:41\n",
      "    --------------------------------------- 6.0/376.0 MB 10.0 MB/s eta 0:00:38\n",
      "    --------------------------------------- 8.7/376.0 MB 10.5 MB/s eta 0:00:35\n",
      "   - -------------------------------------- 10.0/376.0 MB 9.7 MB/s eta 0:00:38\n",
      "   - -------------------------------------- 12.3/376.0 MB 10.0 MB/s eta 0:00:37\n",
      "   - -------------------------------------- 14.9/376.0 MB 10.3 MB/s eta 0:00:35\n",
      "   - -------------------------------------- 16.5/376.0 MB 10.1 MB/s eta 0:00:36\n",
      "   - -------------------------------------- 18.6/376.0 MB 10.0 MB/s eta 0:00:36\n",
      "   -- ------------------------------------- 20.4/376.0 MB 9.9 MB/s eta 0:00:36\n",
      "   -- ------------------------------------- 22.5/376.0 MB 10.0 MB/s eta 0:00:36\n",
      "   -- ------------------------------------- 24.6/376.0 MB 9.9 MB/s eta 0:00:36\n",
      "   -- ------------------------------------- 27.8/376.0 MB 10.3 MB/s eta 0:00:34\n",
      "   --- ------------------------------------ 29.1/376.0 MB 10.0 MB/s eta 0:00:35\n",
      "   --- ------------------------------------ 32.0/376.0 MB 10.3 MB/s eta 0:00:34\n",
      "   --- ------------------------------------ 34.9/376.0 MB 10.4 MB/s eta 0:00:33\n",
      "   --- ------------------------------------ 36.2/376.0 MB 10.3 MB/s eta 0:00:33\n",
      "   ---- ----------------------------------- 38.3/376.0 MB 10.2 MB/s eta 0:00:34\n",
      "   ---- ----------------------------------- 39.8/376.0 MB 10.0 MB/s eta 0:00:34\n",
      "   ---- ----------------------------------- 41.7/376.0 MB 10.0 MB/s eta 0:00:34\n",
      "   ---- ----------------------------------- 44.0/376.0 MB 10.0 MB/s eta 0:00:34\n",
      "   ---- ----------------------------------- 45.9/376.0 MB 10.1 MB/s eta 0:00:33\n",
      "   ----- ---------------------------------- 48.5/376.0 MB 10.1 MB/s eta 0:00:33\n",
      "   ----- ---------------------------------- 50.9/376.0 MB 10.2 MB/s eta 0:00:33\n",
      "   ----- ---------------------------------- 53.0/376.0 MB 10.2 MB/s eta 0:00:32\n",
      "   ----- ---------------------------------- 54.3/376.0 MB 10.1 MB/s eta 0:00:32\n",
      "   ----- ---------------------------------- 56.4/376.0 MB 10.0 MB/s eta 0:00:32\n",
      "   ------ --------------------------------- 59.0/376.0 MB 10.1 MB/s eta 0:00:32\n",
      "   ------ --------------------------------- 60.8/376.0 MB 10.0 MB/s eta 0:00:32\n",
      "   ------ --------------------------------- 62.9/376.0 MB 10.0 MB/s eta 0:00:32\n",
      "   ------ --------------------------------- 65.3/376.0 MB 10.1 MB/s eta 0:00:31\n",
      "   ------- -------------------------------- 68.2/376.0 MB 10.2 MB/s eta 0:00:31\n",
      "   ------- -------------------------------- 70.8/376.0 MB 10.3 MB/s eta 0:00:30\n",
      "   ------- -------------------------------- 73.7/376.0 MB 10.4 MB/s eta 0:00:30\n",
      "   -------- ------------------------------- 76.3/376.0 MB 10.4 MB/s eta 0:00:29\n",
      "   -------- ------------------------------- 78.1/376.0 MB 10.4 MB/s eta 0:00:29\n",
      "   -------- ------------------------------- 80.2/376.0 MB 10.4 MB/s eta 0:00:29\n",
      "   -------- ------------------------------- 82.6/376.0 MB 10.4 MB/s eta 0:00:29\n",
      "   --------- ------------------------------ 84.9/376.0 MB 10.4 MB/s eta 0:00:29\n",
      "   --------- ------------------------------ 87.6/376.0 MB 10.4 MB/s eta 0:00:28\n",
      "   --------- ------------------------------ 89.1/376.0 MB 10.3 MB/s eta 0:00:28\n",
      "   --------- ------------------------------ 90.2/376.0 MB 10.2 MB/s eta 0:00:28\n",
      "   --------- ------------------------------ 91.8/376.0 MB 10.2 MB/s eta 0:00:28\n",
      "   --------- ------------------------------ 93.3/376.0 MB 10.1 MB/s eta 0:00:28\n",
      "   ---------- ----------------------------- 95.9/376.0 MB 10.2 MB/s eta 0:00:28\n",
      "   ---------- ----------------------------- 98.0/376.0 MB 10.2 MB/s eta 0:00:28\n",
      "   ---------- ---------------------------- 100.4/376.0 MB 10.2 MB/s eta 0:00:28\n",
      "   ---------- ---------------------------- 102.5/376.0 MB 10.2 MB/s eta 0:00:27\n",
      "   ---------- ---------------------------- 105.4/376.0 MB 10.3 MB/s eta 0:00:27\n",
      "   ----------- --------------------------- 107.2/376.0 MB 10.3 MB/s eta 0:00:27\n",
      "   ----------- --------------------------- 109.8/376.0 MB 10.3 MB/s eta 0:00:26\n",
      "   ----------- --------------------------- 112.5/376.0 MB 10.3 MB/s eta 0:00:26\n",
      "   ----------- --------------------------- 115.3/376.0 MB 10.4 MB/s eta 0:00:26\n",
      "   ------------ -------------------------- 116.9/376.0 MB 10.3 MB/s eta 0:00:26\n",
      "   ------------ -------------------------- 119.8/376.0 MB 10.4 MB/s eta 0:00:25\n",
      "   ------------ -------------------------- 122.4/376.0 MB 10.4 MB/s eta 0:00:25\n",
      "   ------------ -------------------------- 124.3/376.0 MB 10.4 MB/s eta 0:00:25\n",
      "   ------------- ------------------------- 126.6/376.0 MB 10.4 MB/s eta 0:00:24\n",
      "   ------------- ------------------------- 129.5/376.0 MB 10.5 MB/s eta 0:00:24\n",
      "   ------------- ------------------------- 132.1/376.0 MB 10.5 MB/s eta 0:00:24\n",
      "   ------------- ------------------------- 134.0/376.0 MB 10.5 MB/s eta 0:00:24\n",
      "   -------------- ------------------------ 136.3/376.0 MB 10.5 MB/s eta 0:00:23\n",
      "   -------------- ------------------------ 137.9/376.0 MB 10.5 MB/s eta 0:00:23\n",
      "   -------------- ------------------------ 139.5/376.0 MB 10.4 MB/s eta 0:00:23\n",
      "   -------------- ------------------------ 141.0/376.0 MB 10.4 MB/s eta 0:00:23\n",
      "   -------------- ------------------------ 142.6/376.0 MB 10.3 MB/s eta 0:00:23\n",
      "   --------------- ----------------------- 145.0/376.0 MB 10.3 MB/s eta 0:00:23\n",
      "   --------------- ----------------------- 147.1/376.0 MB 10.3 MB/s eta 0:00:23\n",
      "   --------------- ----------------------- 147.6/376.0 MB 10.3 MB/s eta 0:00:23\n",
      "   --------------- ----------------------- 148.9/376.0 MB 10.2 MB/s eta 0:00:23\n",
      "   --------------- ----------------------- 150.7/376.0 MB 10.2 MB/s eta 0:00:23\n",
      "   --------------- ----------------------- 152.6/376.0 MB 10.2 MB/s eta 0:00:23\n",
      "   ---------------- ---------------------- 154.9/376.0 MB 10.2 MB/s eta 0:00:22\n",
      "   ---------------- ---------------------- 157.3/376.0 MB 10.2 MB/s eta 0:00:22\n",
      "   ---------------- ---------------------- 159.4/376.0 MB 10.2 MB/s eta 0:00:22\n",
      "   ---------------- ---------------------- 161.5/376.0 MB 10.2 MB/s eta 0:00:22\n",
      "   ---------------- ---------------------- 162.8/376.0 MB 10.1 MB/s eta 0:00:22\n",
      "   ---------------- ---------------------- 163.1/376.0 MB 10.1 MB/s eta 0:00:22\n",
      "   ----------------- ---------------------- 163.6/376.0 MB 9.9 MB/s eta 0:00:22\n",
      "   ----------------- ---------------------- 164.1/376.0 MB 9.9 MB/s eta 0:00:22\n",
      "   ----------------- ---------------------- 165.2/376.0 MB 9.8 MB/s eta 0:00:22\n",
      "   ----------------- ---------------------- 166.5/376.0 MB 9.7 MB/s eta 0:00:22\n",
      "   ----------------- ---------------------- 167.2/376.0 MB 9.7 MB/s eta 0:00:22\n",
      "   ----------------- ---------------------- 167.5/376.0 MB 9.6 MB/s eta 0:00:22\n",
      "   ----------------- ---------------------- 168.3/376.0 MB 9.5 MB/s eta 0:00:22\n",
      "   ------------------ --------------------- 169.3/376.0 MB 9.4 MB/s eta 0:00:22\n",
      "   ------------------ --------------------- 170.4/376.0 MB 9.4 MB/s eta 0:00:22\n",
      "   ------------------ --------------------- 171.7/376.0 MB 9.4 MB/s eta 0:00:22\n",
      "   ------------------ --------------------- 173.3/376.0 MB 9.3 MB/s eta 0:00:22\n",
      "   ------------------ --------------------- 174.3/376.0 MB 9.3 MB/s eta 0:00:22\n",
      "   ------------------ --------------------- 175.6/376.0 MB 9.3 MB/s eta 0:00:22\n",
      "   ------------------ --------------------- 176.7/376.0 MB 9.2 MB/s eta 0:00:22\n",
      "   ------------------ --------------------- 177.7/376.0 MB 9.2 MB/s eta 0:00:22\n",
      "   ------------------- -------------------- 179.0/376.0 MB 9.1 MB/s eta 0:00:22\n",
      "   ------------------- -------------------- 180.4/376.0 MB 9.1 MB/s eta 0:00:22\n",
      "   ------------------- -------------------- 181.7/376.0 MB 9.1 MB/s eta 0:00:22\n",
      "   ------------------- -------------------- 182.7/376.0 MB 9.0 MB/s eta 0:00:22\n",
      "   ------------------- -------------------- 184.0/376.0 MB 9.0 MB/s eta 0:00:22\n",
      "   ------------------- -------------------- 184.8/376.0 MB 8.9 MB/s eta 0:00:22\n",
      "   ------------------- -------------------- 185.9/376.0 MB 8.9 MB/s eta 0:00:22\n",
      "   ------------------- -------------------- 186.9/376.0 MB 8.9 MB/s eta 0:00:22\n",
      "   -------------------- ------------------- 188.2/376.0 MB 8.9 MB/s eta 0:00:22\n",
      "   -------------------- ------------------- 189.5/376.0 MB 8.8 MB/s eta 0:00:22\n",
      "   -------------------- ------------------- 190.6/376.0 MB 8.8 MB/s eta 0:00:22\n",
      "   -------------------- ------------------- 191.9/376.0 MB 8.8 MB/s eta 0:00:21\n",
      "   -------------------- ------------------- 193.5/376.0 MB 8.8 MB/s eta 0:00:21\n",
      "   -------------------- ------------------- 194.8/376.0 MB 8.7 MB/s eta 0:00:21\n",
      "   -------------------- ------------------- 196.1/376.0 MB 8.7 MB/s eta 0:00:21\n",
      "   -------------------- ------------------- 197.1/376.0 MB 8.7 MB/s eta 0:00:21\n",
      "   --------------------- ------------------ 198.4/376.0 MB 8.6 MB/s eta 0:00:21\n",
      "   --------------------- ------------------ 199.8/376.0 MB 8.6 MB/s eta 0:00:21\n",
      "   --------------------- ------------------ 201.1/376.0 MB 8.6 MB/s eta 0:00:21\n",
      "   --------------------- ------------------ 202.6/376.0 MB 8.6 MB/s eta 0:00:21\n",
      "   --------------------- ------------------ 203.9/376.0 MB 8.6 MB/s eta 0:00:21\n",
      "   --------------------- ------------------ 205.3/376.0 MB 8.6 MB/s eta 0:00:20\n",
      "   ---------------------- ----------------- 206.8/376.0 MB 8.5 MB/s eta 0:00:20\n",
      "   ---------------------- ----------------- 208.1/376.0 MB 8.5 MB/s eta 0:00:20\n",
      "   ---------------------- ----------------- 209.2/376.0 MB 8.5 MB/s eta 0:00:20\n",
      "   ---------------------- ----------------- 210.5/376.0 MB 8.5 MB/s eta 0:00:20\n",
      "   ---------------------- ----------------- 211.8/376.0 MB 8.5 MB/s eta 0:00:20\n",
      "   ---------------------- ----------------- 213.1/376.0 MB 8.4 MB/s eta 0:00:20\n",
      "   ---------------------- ----------------- 214.2/376.0 MB 8.4 MB/s eta 0:00:20\n",
      "   ---------------------- ----------------- 215.5/376.0 MB 8.4 MB/s eta 0:00:20\n",
      "   ----------------------- ---------------- 216.8/376.0 MB 8.4 MB/s eta 0:00:19\n",
      "   ----------------------- ---------------- 218.1/376.0 MB 8.4 MB/s eta 0:00:19\n",
      "   ----------------------- ---------------- 219.7/376.0 MB 8.4 MB/s eta 0:00:19\n",
      "   ----------------------- ---------------- 221.0/376.0 MB 8.4 MB/s eta 0:00:19\n",
      "   ----------------------- ---------------- 222.3/376.0 MB 8.3 MB/s eta 0:00:19\n",
      "   ----------------------- ---------------- 223.6/376.0 MB 8.3 MB/s eta 0:00:19\n",
      "   ----------------------- ---------------- 225.4/376.0 MB 8.3 MB/s eta 0:00:19\n",
      "   ------------------------ --------------- 227.0/376.0 MB 8.3 MB/s eta 0:00:18\n",
      "   ------------------------ --------------- 228.6/376.0 MB 8.3 MB/s eta 0:00:18\n",
      "   ------------------------ --------------- 230.4/376.0 MB 8.3 MB/s eta 0:00:18\n",
      "   ------------------------ --------------- 231.5/376.0 MB 8.3 MB/s eta 0:00:18\n",
      "   ------------------------ --------------- 233.0/376.0 MB 8.3 MB/s eta 0:00:18\n",
      "   ------------------------- -------------- 235.1/376.0 MB 8.3 MB/s eta 0:00:18\n",
      "   ------------------------- -------------- 236.5/376.0 MB 8.3 MB/s eta 0:00:17\n",
      "   ------------------------- -------------- 238.3/376.0 MB 8.3 MB/s eta 0:00:17\n",
      "   ------------------------- -------------- 240.1/376.0 MB 8.3 MB/s eta 0:00:17\n",
      "   ------------------------- -------------- 241.7/376.0 MB 8.3 MB/s eta 0:00:17\n",
      "   ------------------------- -------------- 243.5/376.0 MB 8.3 MB/s eta 0:00:17\n",
      "   -------------------------- ------------- 245.4/376.0 MB 8.3 MB/s eta 0:00:16\n",
      "   -------------------------- ------------- 246.7/376.0 MB 8.3 MB/s eta 0:00:16\n",
      "   -------------------------- ------------- 248.8/376.0 MB 8.3 MB/s eta 0:00:16\n",
      "   -------------------------- ------------- 250.6/376.0 MB 8.3 MB/s eta 0:00:16\n",
      "   -------------------------- ------------- 251.9/376.0 MB 8.3 MB/s eta 0:00:16\n",
      "   -------------------------- ------------- 253.8/376.0 MB 8.2 MB/s eta 0:00:15\n",
      "   --------------------------- ------------ 255.9/376.0 MB 8.2 MB/s eta 0:00:15\n",
      "   --------------------------- ------------ 257.9/376.0 MB 8.2 MB/s eta 0:00:15\n",
      "   --------------------------- ------------ 260.3/376.0 MB 8.2 MB/s eta 0:00:15\n",
      "   --------------------------- ------------ 262.4/376.0 MB 8.2 MB/s eta 0:00:14\n",
      "   ---------------------------- ----------- 264.2/376.0 MB 8.2 MB/s eta 0:00:14\n",
      "   ---------------------------- ----------- 266.1/376.0 MB 8.2 MB/s eta 0:00:14\n",
      "   ---------------------------- ----------- 267.6/376.0 MB 8.2 MB/s eta 0:00:14\n",
      "   ---------------------------- ----------- 270.3/376.0 MB 8.2 MB/s eta 0:00:13\n",
      "   ----------------------------- ---------- 272.9/376.0 MB 8.2 MB/s eta 0:00:13\n",
      "   ----------------------------- ---------- 274.7/376.0 MB 8.2 MB/s eta 0:00:13\n",
      "   ----------------------------- ---------- 276.6/376.0 MB 8.2 MB/s eta 0:00:13\n",
      "   ----------------------------- ---------- 277.3/376.0 MB 8.2 MB/s eta 0:00:13\n",
      "   ----------------------------- ---------- 278.1/376.0 MB 8.1 MB/s eta 0:00:13\n",
      "   ----------------------------- ---------- 278.7/376.0 MB 8.1 MB/s eta 0:00:13\n",
      "   ----------------------------- ---------- 281.8/376.0 MB 8.1 MB/s eta 0:00:12\n",
      "   ------------------------------ --------- 283.9/376.0 MB 8.1 MB/s eta 0:00:12\n",
      "   ------------------------------ --------- 286.0/376.0 MB 8.1 MB/s eta 0:00:12\n",
      "   ------------------------------ --------- 288.4/376.0 MB 8.1 MB/s eta 0:00:11\n",
      "   ------------------------------ --------- 291.0/376.0 MB 8.1 MB/s eta 0:00:11\n",
      "   ------------------------------- -------- 293.1/376.0 MB 8.1 MB/s eta 0:00:11\n",
      "   ------------------------------- -------- 295.7/376.0 MB 8.1 MB/s eta 0:00:10\n",
      "   ------------------------------- -------- 298.3/376.0 MB 8.2 MB/s eta 0:00:10\n",
      "   ------------------------------- -------- 300.4/376.0 MB 8.2 MB/s eta 0:00:10\n",
      "   -------------------------------- ------- 303.0/376.0 MB 8.2 MB/s eta 0:00:09\n",
      "   -------------------------------- ------- 305.7/376.0 MB 8.2 MB/s eta 0:00:09\n",
      "   -------------------------------- ------- 308.3/376.0 MB 8.2 MB/s eta 0:00:09\n",
      "   --------------------------------- ------ 310.9/376.0 MB 8.2 MB/s eta 0:00:08\n",
      "   --------------------------------- ------ 313.0/376.0 MB 8.2 MB/s eta 0:00:08\n",
      "   --------------------------------- ------ 315.4/376.0 MB 8.2 MB/s eta 0:00:08\n",
      "   --------------------------------- ------ 316.9/376.0 MB 8.2 MB/s eta 0:00:08\n",
      "   ---------------------------------- ----- 319.8/376.0 MB 8.2 MB/s eta 0:00:07\n",
      "   ---------------------------------- ----- 322.4/376.0 MB 8.2 MB/s eta 0:00:07\n",
      "   ---------------------------------- ----- 324.8/376.0 MB 8.2 MB/s eta 0:00:07\n",
      "   ---------------------------------- ----- 326.9/376.0 MB 8.2 MB/s eta 0:00:06\n",
      "   ----------------------------------- ---- 329.0/376.0 MB 8.2 MB/s eta 0:00:06\n",
      "   ----------------------------------- ---- 331.1/376.0 MB 8.2 MB/s eta 0:00:06\n",
      "   ----------------------------------- ---- 333.7/376.0 MB 8.2 MB/s eta 0:00:06\n",
      "   ----------------------------------- ---- 336.6/376.0 MB 8.2 MB/s eta 0:00:05\n",
      "   ------------------------------------ --- 339.0/376.0 MB 8.3 MB/s eta 0:00:05\n",
      "   ------------------------------------ --- 341.6/376.0 MB 8.3 MB/s eta 0:00:05\n",
      "   ------------------------------------ --- 343.9/376.0 MB 8.3 MB/s eta 0:00:04\n",
      "   ------------------------------------ --- 346.3/376.0 MB 8.3 MB/s eta 0:00:04\n",
      "   ------------------------------------- -- 349.2/376.0 MB 8.4 MB/s eta 0:00:04\n",
      "   ------------------------------------- -- 351.5/376.0 MB 8.4 MB/s eta 0:00:03\n",
      "   ------------------------------------- -- 354.4/376.0 MB 8.4 MB/s eta 0:00:03\n",
      "   ------------------------------------- -- 357.0/376.0 MB 8.4 MB/s eta 0:00:03\n",
      "   -------------------------------------- - 358.9/376.0 MB 8.4 MB/s eta 0:00:03\n",
      "   -------------------------------------- - 360.2/376.0 MB 8.3 MB/s eta 0:00:02\n",
      "   -------------------------------------- - 363.3/376.0 MB 8.3 MB/s eta 0:00:02\n",
      "   -------------------------------------- - 366.0/376.0 MB 8.3 MB/s eta 0:00:02\n",
      "   ---------------------------------------  368.6/376.0 MB 8.4 MB/s eta 0:00:01\n",
      "   ---------------------------------------  370.9/376.0 MB 8.4 MB/s eta 0:00:01\n",
      "   ---------------------------------------  373.6/376.0 MB 8.4 MB/s eta 0:00:01\n",
      "   ---------------------------------------  374.9/376.0 MB 8.3 MB/s eta 0:00:01\n",
      "   ---------------------------------------  375.9/376.0 MB 8.3 MB/s eta 0:00:01\n",
      "   ---------------------------------------  375.9/376.0 MB 8.3 MB/s eta 0:00:01\n",
      "   ---------------------------------------  375.9/376.0 MB 8.3 MB/s eta 0:00:01\n",
      "   ---------------------------------------- 376.0/376.0 MB 8.1 MB/s eta 0:00:00\n",
      "Downloading absl_py-2.3.0-py3-none-any.whl (135 kB)\n",
      "Downloading astunparse-1.6.3-py2.py3-none-any.whl (12 kB)\n",
      "Downloading flatbuffers-25.2.10-py2.py3-none-any.whl (30 kB)\n",
      "Downloading gast-0.6.0-py3-none-any.whl (21 kB)\n",
      "Downloading google_pasta-0.2.0-py3-none-any.whl (57 kB)\n",
      "Downloading grpcio-1.73.0-cp312-cp312-win_amd64.whl (4.3 MB)\n",
      "   ---------------------------------------- 0.0/4.3 MB ? eta -:--:--\n",
      "   --------------------- ------------------ 2.4/4.3 MB 14.9 MB/s eta 0:00:01\n",
      "   ---------------------------------------- 4.3/4.3 MB 10.9 MB/s eta 0:00:00\n",
      "Downloading libclang-18.1.1-py2.py3-none-win_amd64.whl (26.4 MB)\n",
      "   ---------------------------------------- 0.0/26.4 MB ? eta -:--:--\n",
      "   --- ------------------------------------ 2.4/26.4 MB 12.2 MB/s eta 0:00:02\n",
      "   ------- -------------------------------- 5.0/26.4 MB 11.6 MB/s eta 0:00:02\n",
      "   ----------- ---------------------------- 7.6/26.4 MB 12.4 MB/s eta 0:00:02\n",
      "   -------------- ------------------------- 9.7/26.4 MB 11.8 MB/s eta 0:00:02\n",
      "   ------------------ --------------------- 12.1/26.4 MB 11.6 MB/s eta 0:00:02\n",
      "   --------------------- ------------------ 14.4/26.4 MB 11.9 MB/s eta 0:00:02\n",
      "   ------------------------- -------------- 17.0/26.4 MB 11.9 MB/s eta 0:00:01\n",
      "   ----------------------------- ---------- 19.4/26.4 MB 11.9 MB/s eta 0:00:01\n",
      "   --------------------------------- ------ 22.3/26.4 MB 12.1 MB/s eta 0:00:01\n",
      "   ------------------------------------ --- 24.4/26.4 MB 11.9 MB/s eta 0:00:01\n",
      "   -------------------------------------- - 25.7/26.4 MB 11.4 MB/s eta 0:00:01\n",
      "   ---------------------------------------- 26.4/26.4 MB 11.2 MB/s eta 0:00:00\n",
      "Downloading ml_dtypes-0.5.1-cp312-cp312-win_amd64.whl (210 kB)\n",
      "Downloading opt_einsum-3.4.0-py3-none-any.whl (71 kB)\n",
      "Downloading tensorboard-2.19.0-py3-none-any.whl (5.5 MB)\n",
      "   ---------------------------------------- 0.0/5.5 MB ? eta -:--:--\n",
      "   ----------------- ---------------------- 2.4/5.5 MB 11.2 MB/s eta 0:00:01\n",
      "   ------------------------------ --------- 4.2/5.5 MB 10.5 MB/s eta 0:00:01\n",
      "   ---------------------------------------- 5.5/5.5 MB 10.5 MB/s eta 0:00:00\n",
      "Downloading termcolor-3.1.0-py3-none-any.whl (7.7 kB)\n",
      "Downloading namex-0.1.0-py3-none-any.whl (5.9 kB)\n",
      "Downloading optree-0.16.0-cp312-cp312-win_amd64.whl (315 kB)\n",
      "Downloading tensorboard_data_server-0.7.2-py3-none-any.whl (2.4 kB)\n",
      "Installing collected packages: namex, libclang, flatbuffers, termcolor, tensorboard-data-server, optree, opt-einsum, ml-dtypes, grpcio, google-pasta, gast, astunparse, absl-py, tensorboard, keras, tensorflow\n",
      "Successfully installed absl-py-2.3.0 astunparse-1.6.3 flatbuffers-25.2.10 gast-0.6.0 google-pasta-0.2.0 grpcio-1.73.0 keras-3.10.0 libclang-18.1.1 ml-dtypes-0.5.1 namex-0.1.0 opt-einsum-3.4.0 optree-0.16.0 tensorboard-2.19.0 tensorboard-data-server-0.7.2 tensorflow-2.19.0 termcolor-3.1.0\n",
      "Note: you may need to restart the kernel to use updated packages.\n"
     ]
    }
   ],
   "source": [
    "pip install keras tensorflow\n"
   ]
  },
  {
   "cell_type": "code",
   "execution_count": null,
   "id": "fe15d30f-334f-4e1b-b82c-ae355ba083ff",
   "metadata": {},
   "outputs": [],
   "source": [
    "import os\n",
    "import sys\n",
    "import pandas as pd\n",
    "import numpy as np \n",
    "import math\n",
    "from sklearn.preprocessing import MinMaxScaler\n",
    "from sklearn.metrics import mean_squared_error\n",
    "from sklearn.model_selection import train_test_split\n",
    "import keras\n",
    "from keras.models import Sequential\n",
    "from keras.layers import Dense, Activation, Bidirectional, LSTM, GRU\n",
    "import tensorflow as tf\n",
    "from bokeh.io import output_notebook\n",
    "from utils import (get_number_processors, plot_series, to_1dimension, plot_series_prediction)\n",
    "\n",
    "print(\"OS: \", sys.platform)\n",
    "print(\"Python: \", sys.version)\n",
    "print(\"Keras: \", keras.__version__)\n",
    "print(\"Tensorflow: \", tf.__version__)\n",
    "print(\"Numpy: \", np.__version__)\n",
    "print(\"Number of CPU processors: \", get_number_processors())\n",
    "\n",
    "%load_ext autoreload\n",
    "%autoreload 2\n",
    "\n",
    "output_notebook()"
   ]
  },
  {
   "cell_type": "code",
   "execution_count": 3,
   "id": "f7a23bd8-aa3e-41c3-be60-2a01797c5c7a",
   "metadata": {},
   "outputs": [
    {
     "name": "stdout",
     "output_type": "stream",
     "text": [
      "3.10.0\n",
      "2.19.0\n"
     ]
    }
   ],
   "source": [
    "import keras\n",
    "print(keras.__version__)\n",
    "\n",
    "import tensorflow as tf\n",
    "print(tf.__version__)\n"
   ]
  },
  {
   "cell_type": "code",
   "execution_count": null,
   "id": "544b7736-84c0-4b35-85c8-abf23878e931",
   "metadata": {},
   "outputs": [],
   "source": [
    "conda activate base\n"
   ]
  },
  {
   "cell_type": "code",
   "execution_count": 5,
   "id": "3a7d0941-3955-4cf6-8672-c15eaefa8d4d",
   "metadata": {},
   "outputs": [
    {
     "name": "stdout",
     "output_type": "stream",
     "text": [
      "OS:  win32\n",
      "Python:  3.12.7 | packaged by Anaconda, Inc. | (main, Oct  4 2024, 13:17:27) [MSC v.1929 64 bit (AMD64)]\n",
      "Keras:  3.10.0\n",
      "Tensorflow:  2.19.0\n",
      "Numpy:  1.26.4\n",
      "Number of CPU processors:  16\n"
     ]
    },
    {
     "data": {
      "text/html": [
       "    <style>\n",
       "        .bk-notebook-logo {\n",
       "            display: block;\n",
       "            width: 20px;\n",
       "            height: 20px;\n",
       "            background-image: url(data:image/png;base64,iVBORw0KGgoAAAANSUhEUgAAABQAAAAUCAYAAACNiR0NAAAABHNCSVQICAgIfAhkiAAAAAlwSFlzAAALEgAACxIB0t1+/AAAABx0RVh0U29mdHdhcmUAQWRvYmUgRmlyZXdvcmtzIENTNui8sowAAAOkSURBVDiNjZRtaJVlGMd/1/08zzln5zjP1LWcU9N0NkN8m2CYjpgQYQXqSs0I84OLIC0hkEKoPtiH3gmKoiJDU7QpLgoLjLIQCpEsNJ1vqUOdO7ppbuec5+V+rj4ctwzd8IIbbi6u+8f1539dt3A78eXC7QizUF7gyV1fD1Yqg4JWz84yffhm0qkFqBogB9rM8tZdtwVsPUhWhGcFJngGeWrPzHm5oaMmkfEg1usvLFyc8jLRqDOMru7AyC8saQr7GG7f5fvDeH7Ej8CM66nIF+8yngt6HWaKh7k49Soy9nXurCi1o3qUbS3zWfrYeQDTB/Qj6kX6Ybhw4B+bOYoLKCC9H3Nu/leUTZ1JdRWkkn2ldcCamzrcf47KKXdAJllSlxAOkRgyHsGC/zRday5Qld9DyoM4/q/rUoy/CXh3jzOu3bHUVZeU+DEn8FInkPBFlu3+nW3Nw0mk6vCDiWg8CeJaxEwuHS3+z5RgY+YBR6V1Z1nxSOfoaPa4LASWxxdNp+VWTk7+4vzaou8v8PN+xo+KY2xsw6une2frhw05CTYOmQvsEhjhWjn0bmXPjpE1+kplmmkP3suftwTubK9Vq22qKmrBhpY4jvd5afdRA3wGjFAgcnTK2s4hY0/GPNIb0nErGMCRxWOOX64Z8RAC4oCXdklmEvcL8o0BfkNK4lUg9HTl+oPlQxdNo3Mg4Nv175e/1LDGzZen30MEjRUtmXSfiTVu1kK8W4txyV6BMKlbgk3lMwYCiusNy9fVfvvwMxv8Ynl6vxoByANLTWplvuj/nF9m2+PDtt1eiHPBr1oIfhCChQMBw6Aw0UulqTKZdfVvfG7VcfIqLG9bcldL/+pdWTLxLUy8Qq38heUIjh4XlzZxzQm19lLFlr8vdQ97rjZVOLf8nclzckbcD4wxXMidpX30sFd37Fv/GtwwhzhxGVAprjbg0gCAEeIgwCZyTV2Z1REEW8O4py0wsjeloKoMr6iCY6dP92H6Vw/oTyICIthibxjm/DfN9lVz8IqtqKYLUXfoKVMVQVVJOElGjrnnUt9T9wbgp8AyYKaGlqingHZU/uG2NTZSVqwHQTWkx9hxjkpWDaCg6Ckj5qebgBVbT3V3NNXMSiWSDdGV3hrtzla7J+duwPOToIg42ChPQOQjspnSlp1V+Gjdged7+8UN5CRAV7a5EdFNwCjEaBR27b3W890TE7g24NAP/mMDXRWrGoFPQI9ls/MWO2dWFAar/xcOIImbbpA3zgAAAABJRU5ErkJggg==);\n",
       "        }\n",
       "    </style>\n",
       "    <div>\n",
       "        <a href=\"https://bokeh.org\" target=\"_blank\" class=\"bk-notebook-logo\"></a>\n",
       "        <span id=\"db02abe9-b7ce-4cc5-afbc-4d78a0b8ad16\">Loading BokehJS ...</span>\n",
       "    </div>\n"
      ]
     },
     "metadata": {},
     "output_type": "display_data"
    },
    {
     "data": {
      "application/javascript": [
       "'use strict';\n",
       "(function(root) {\n",
       "  function now() {\n",
       "    return new Date();\n",
       "  }\n",
       "\n",
       "  const force = true;\n",
       "\n",
       "  if (typeof root._bokeh_onload_callbacks === \"undefined\" || force === true) {\n",
       "    root._bokeh_onload_callbacks = [];\n",
       "    root._bokeh_is_loading = undefined;\n",
       "  }\n",
       "\n",
       "const JS_MIME_TYPE = 'application/javascript';\n",
       "  const HTML_MIME_TYPE = 'text/html';\n",
       "  const EXEC_MIME_TYPE = 'application/vnd.bokehjs_exec.v0+json';\n",
       "  const CLASS_NAME = 'output_bokeh rendered_html';\n",
       "\n",
       "  /**\n",
       "   * Render data to the DOM node\n",
       "   */\n",
       "  function render(props, node) {\n",
       "    const script = document.createElement(\"script\");\n",
       "    node.appendChild(script);\n",
       "  }\n",
       "\n",
       "  /**\n",
       "   * Handle when an output is cleared or removed\n",
       "   */\n",
       "  function handleClearOutput(event, handle) {\n",
       "    function drop(id) {\n",
       "      const view = Bokeh.index.get_by_id(id)\n",
       "      if (view != null) {\n",
       "        view.model.document.clear()\n",
       "        Bokeh.index.delete(view)\n",
       "      }\n",
       "    }\n",
       "\n",
       "    const cell = handle.cell;\n",
       "\n",
       "    const id = cell.output_area._bokeh_element_id;\n",
       "    const server_id = cell.output_area._bokeh_server_id;\n",
       "\n",
       "    // Clean up Bokeh references\n",
       "    if (id != null) {\n",
       "      drop(id)\n",
       "    }\n",
       "\n",
       "    if (server_id !== undefined) {\n",
       "      // Clean up Bokeh references\n",
       "      const cmd_clean = \"from bokeh.io.state import curstate; print(curstate().uuid_to_server['\" + server_id + \"'].get_sessions()[0].document.roots[0]._id)\";\n",
       "      cell.notebook.kernel.execute(cmd_clean, {\n",
       "        iopub: {\n",
       "          output: function(msg) {\n",
       "            const id = msg.content.text.trim()\n",
       "            drop(id)\n",
       "          }\n",
       "        }\n",
       "      });\n",
       "      // Destroy server and session\n",
       "      const cmd_destroy = \"import bokeh.io.notebook as ion; ion.destroy_server('\" + server_id + \"')\";\n",
       "      cell.notebook.kernel.execute(cmd_destroy);\n",
       "    }\n",
       "  }\n",
       "\n",
       "  /**\n",
       "   * Handle when a new output is added\n",
       "   */\n",
       "  function handleAddOutput(event, handle) {\n",
       "    const output_area = handle.output_area;\n",
       "    const output = handle.output;\n",
       "\n",
       "    // limit handleAddOutput to display_data with EXEC_MIME_TYPE content only\n",
       "    if ((output.output_type != \"display_data\") || (!Object.prototype.hasOwnProperty.call(output.data, EXEC_MIME_TYPE))) {\n",
       "      return\n",
       "    }\n",
       "\n",
       "    const toinsert = output_area.element.find(\".\" + CLASS_NAME.split(' ')[0]);\n",
       "\n",
       "    if (output.metadata[EXEC_MIME_TYPE][\"id\"] !== undefined) {\n",
       "      toinsert[toinsert.length - 1].firstChild.textContent = output.data[JS_MIME_TYPE];\n",
       "      // store reference to embed id on output_area\n",
       "      output_area._bokeh_element_id = output.metadata[EXEC_MIME_TYPE][\"id\"];\n",
       "    }\n",
       "    if (output.metadata[EXEC_MIME_TYPE][\"server_id\"] !== undefined) {\n",
       "      const bk_div = document.createElement(\"div\");\n",
       "      bk_div.innerHTML = output.data[HTML_MIME_TYPE];\n",
       "      const script_attrs = bk_div.children[0].attributes;\n",
       "      for (let i = 0; i < script_attrs.length; i++) {\n",
       "        toinsert[toinsert.length - 1].firstChild.setAttribute(script_attrs[i].name, script_attrs[i].value);\n",
       "        toinsert[toinsert.length - 1].firstChild.textContent = bk_div.children[0].textContent\n",
       "      }\n",
       "      // store reference to server id on output_area\n",
       "      output_area._bokeh_server_id = output.metadata[EXEC_MIME_TYPE][\"server_id\"];\n",
       "    }\n",
       "  }\n",
       "\n",
       "  function register_renderer(events, OutputArea) {\n",
       "\n",
       "    function append_mime(data, metadata, element) {\n",
       "      // create a DOM node to render to\n",
       "      const toinsert = this.create_output_subarea(\n",
       "        metadata,\n",
       "        CLASS_NAME,\n",
       "        EXEC_MIME_TYPE\n",
       "      );\n",
       "      this.keyboard_manager.register_events(toinsert);\n",
       "      // Render to node\n",
       "      const props = {data: data, metadata: metadata[EXEC_MIME_TYPE]};\n",
       "      render(props, toinsert[toinsert.length - 1]);\n",
       "      element.append(toinsert);\n",
       "      return toinsert\n",
       "    }\n",
       "\n",
       "    /* Handle when an output is cleared or removed */\n",
       "    events.on('clear_output.CodeCell', handleClearOutput);\n",
       "    events.on('delete.Cell', handleClearOutput);\n",
       "\n",
       "    /* Handle when a new output is added */\n",
       "    events.on('output_added.OutputArea', handleAddOutput);\n",
       "\n",
       "    /**\n",
       "     * Register the mime type and append_mime function with output_area\n",
       "     */\n",
       "    OutputArea.prototype.register_mime_type(EXEC_MIME_TYPE, append_mime, {\n",
       "      /* Is output safe? */\n",
       "      safe: true,\n",
       "      /* Index of renderer in `output_area.display_order` */\n",
       "      index: 0\n",
       "    });\n",
       "  }\n",
       "\n",
       "  // register the mime type if in Jupyter Notebook environment and previously unregistered\n",
       "  if (root.Jupyter !== undefined) {\n",
       "    const events = require('base/js/events');\n",
       "    const OutputArea = require('notebook/js/outputarea').OutputArea;\n",
       "\n",
       "    if (OutputArea.prototype.mime_types().indexOf(EXEC_MIME_TYPE) == -1) {\n",
       "      register_renderer(events, OutputArea);\n",
       "    }\n",
       "  }\n",
       "  if (typeof (root._bokeh_timeout) === \"undefined\" || force === true) {\n",
       "    root._bokeh_timeout = Date.now() + 5000;\n",
       "    root._bokeh_failed_load = false;\n",
       "  }\n",
       "\n",
       "  const NB_LOAD_WARNING = {'data': {'text/html':\n",
       "     \"<div style='background-color: #fdd'>\\n\"+\n",
       "     \"<p>\\n\"+\n",
       "     \"BokehJS does not appear to have successfully loaded. If loading BokehJS from CDN, this \\n\"+\n",
       "     \"may be due to a slow or bad network connection. Possible fixes:\\n\"+\n",
       "     \"</p>\\n\"+\n",
       "     \"<ul>\\n\"+\n",
       "     \"<li>re-rerun `output_notebook()` to attempt to load from CDN again, or</li>\\n\"+\n",
       "     \"<li>use INLINE resources instead, as so:</li>\\n\"+\n",
       "     \"</ul>\\n\"+\n",
       "     \"<code>\\n\"+\n",
       "     \"from bokeh.resources import INLINE\\n\"+\n",
       "     \"output_notebook(resources=INLINE)\\n\"+\n",
       "     \"</code>\\n\"+\n",
       "     \"</div>\"}};\n",
       "\n",
       "  function display_loaded(error = null) {\n",
       "    const el = document.getElementById(\"db02abe9-b7ce-4cc5-afbc-4d78a0b8ad16\");\n",
       "    if (el != null) {\n",
       "      const html = (() => {\n",
       "        if (typeof root.Bokeh === \"undefined\") {\n",
       "          if (error == null) {\n",
       "            return \"BokehJS is loading ...\";\n",
       "          } else {\n",
       "            return \"BokehJS failed to load.\";\n",
       "          }\n",
       "        } else {\n",
       "          const prefix = `BokehJS ${root.Bokeh.version}`;\n",
       "          if (error == null) {\n",
       "            return `${prefix} successfully loaded.`;\n",
       "          } else {\n",
       "            return `${prefix} <b>encountered errors</b> while loading and may not function as expected.`;\n",
       "          }\n",
       "        }\n",
       "      })();\n",
       "      el.innerHTML = html;\n",
       "\n",
       "      if (error != null) {\n",
       "        const wrapper = document.createElement(\"div\");\n",
       "        wrapper.style.overflow = \"auto\";\n",
       "        wrapper.style.height = \"5em\";\n",
       "        wrapper.style.resize = \"vertical\";\n",
       "        const content = document.createElement(\"div\");\n",
       "        content.style.fontFamily = \"monospace\";\n",
       "        content.style.whiteSpace = \"pre-wrap\";\n",
       "        content.style.backgroundColor = \"rgb(255, 221, 221)\";\n",
       "        content.textContent = error.stack ?? error.toString();\n",
       "        wrapper.append(content);\n",
       "        el.append(wrapper);\n",
       "      }\n",
       "    } else if (Date.now() < root._bokeh_timeout) {\n",
       "      setTimeout(() => display_loaded(error), 100);\n",
       "    }\n",
       "  }\n",
       "\n",
       "  function run_callbacks() {\n",
       "    try {\n",
       "      root._bokeh_onload_callbacks.forEach(function(callback) {\n",
       "        if (callback != null)\n",
       "          callback();\n",
       "      });\n",
       "    } finally {\n",
       "      delete root._bokeh_onload_callbacks\n",
       "    }\n",
       "    console.debug(\"Bokeh: all callbacks have finished\");\n",
       "  }\n",
       "\n",
       "  function load_libs(css_urls, js_urls, callback) {\n",
       "    if (css_urls == null) css_urls = [];\n",
       "    if (js_urls == null) js_urls = [];\n",
       "\n",
       "    root._bokeh_onload_callbacks.push(callback);\n",
       "    if (root._bokeh_is_loading > 0) {\n",
       "      console.debug(\"Bokeh: BokehJS is being loaded, scheduling callback at\", now());\n",
       "      return null;\n",
       "    }\n",
       "    if (js_urls == null || js_urls.length === 0) {\n",
       "      run_callbacks();\n",
       "      return null;\n",
       "    }\n",
       "    console.debug(\"Bokeh: BokehJS not loaded, scheduling load and callback at\", now());\n",
       "    root._bokeh_is_loading = css_urls.length + js_urls.length;\n",
       "\n",
       "    function on_load() {\n",
       "      root._bokeh_is_loading--;\n",
       "      if (root._bokeh_is_loading === 0) {\n",
       "        console.debug(\"Bokeh: all BokehJS libraries/stylesheets loaded\");\n",
       "        run_callbacks()\n",
       "      }\n",
       "    }\n",
       "\n",
       "    function on_error(url) {\n",
       "      console.error(\"failed to load \" + url);\n",
       "    }\n",
       "\n",
       "    for (let i = 0; i < css_urls.length; i++) {\n",
       "      const url = css_urls[i];\n",
       "      const element = document.createElement(\"link\");\n",
       "      element.onload = on_load;\n",
       "      element.onerror = on_error.bind(null, url);\n",
       "      element.rel = \"stylesheet\";\n",
       "      element.type = \"text/css\";\n",
       "      element.href = url;\n",
       "      console.debug(\"Bokeh: injecting link tag for BokehJS stylesheet: \", url);\n",
       "      document.body.appendChild(element);\n",
       "    }\n",
       "\n",
       "    for (let i = 0; i < js_urls.length; i++) {\n",
       "      const url = js_urls[i];\n",
       "      const element = document.createElement('script');\n",
       "      element.onload = on_load;\n",
       "      element.onerror = on_error.bind(null, url);\n",
       "      element.async = false;\n",
       "      element.src = url;\n",
       "      console.debug(\"Bokeh: injecting script tag for BokehJS library: \", url);\n",
       "      document.head.appendChild(element);\n",
       "    }\n",
       "  };\n",
       "\n",
       "  function inject_raw_css(css) {\n",
       "    const element = document.createElement(\"style\");\n",
       "    element.appendChild(document.createTextNode(css));\n",
       "    document.body.appendChild(element);\n",
       "  }\n",
       "\n",
       "  const js_urls = [\"https://cdn.bokeh.org/bokeh/release/bokeh-3.6.0.min.js\", \"https://cdn.bokeh.org/bokeh/release/bokeh-gl-3.6.0.min.js\", \"https://cdn.bokeh.org/bokeh/release/bokeh-widgets-3.6.0.min.js\", \"https://cdn.bokeh.org/bokeh/release/bokeh-tables-3.6.0.min.js\", \"https://cdn.bokeh.org/bokeh/release/bokeh-mathjax-3.6.0.min.js\"];\n",
       "  const css_urls = [];\n",
       "\n",
       "  const inline_js = [    function(Bokeh) {\n",
       "      Bokeh.set_log_level(\"info\");\n",
       "    },\n",
       "function(Bokeh) {\n",
       "    }\n",
       "  ];\n",
       "\n",
       "  function run_inline_js() {\n",
       "    if (root.Bokeh !== undefined || force === true) {\n",
       "      try {\n",
       "            for (let i = 0; i < inline_js.length; i++) {\n",
       "      inline_js[i].call(root, root.Bokeh);\n",
       "    }\n",
       "\n",
       "      } catch (error) {display_loaded(error);throw error;\n",
       "      }if (force === true) {\n",
       "        display_loaded();\n",
       "      }} else if (Date.now() < root._bokeh_timeout) {\n",
       "      setTimeout(run_inline_js, 100);\n",
       "    } else if (!root._bokeh_failed_load) {\n",
       "      console.log(\"Bokeh: BokehJS failed to load within specified timeout.\");\n",
       "      root._bokeh_failed_load = true;\n",
       "    } else if (force !== true) {\n",
       "      const cell = $(document.getElementById(\"db02abe9-b7ce-4cc5-afbc-4d78a0b8ad16\")).parents('.cell').data().cell;\n",
       "      cell.output_area.append_execute_result(NB_LOAD_WARNING)\n",
       "    }\n",
       "  }\n",
       "\n",
       "  if (root._bokeh_is_loading === 0) {\n",
       "    console.debug(\"Bokeh: BokehJS loaded, going straight to plotting\");\n",
       "    run_inline_js();\n",
       "  } else {\n",
       "    load_libs(css_urls, js_urls, function() {\n",
       "      console.debug(\"Bokeh: BokehJS plotting callback run at\", now());\n",
       "      run_inline_js();\n",
       "    });\n",
       "  }\n",
       "}(window));"
      ],
      "application/vnd.bokehjs_load.v0+json": "'use strict';\n(function(root) {\n  function now() {\n    return new Date();\n  }\n\n  const force = true;\n\n  if (typeof root._bokeh_onload_callbacks === \"undefined\" || force === true) {\n    root._bokeh_onload_callbacks = [];\n    root._bokeh_is_loading = undefined;\n  }\n\n\n  if (typeof (root._bokeh_timeout) === \"undefined\" || force === true) {\n    root._bokeh_timeout = Date.now() + 5000;\n    root._bokeh_failed_load = false;\n  }\n\n  const NB_LOAD_WARNING = {'data': {'text/html':\n     \"<div style='background-color: #fdd'>\\n\"+\n     \"<p>\\n\"+\n     \"BokehJS does not appear to have successfully loaded. If loading BokehJS from CDN, this \\n\"+\n     \"may be due to a slow or bad network connection. Possible fixes:\\n\"+\n     \"</p>\\n\"+\n     \"<ul>\\n\"+\n     \"<li>re-rerun `output_notebook()` to attempt to load from CDN again, or</li>\\n\"+\n     \"<li>use INLINE resources instead, as so:</li>\\n\"+\n     \"</ul>\\n\"+\n     \"<code>\\n\"+\n     \"from bokeh.resources import INLINE\\n\"+\n     \"output_notebook(resources=INLINE)\\n\"+\n     \"</code>\\n\"+\n     \"</div>\"}};\n\n  function display_loaded(error = null) {\n    const el = document.getElementById(\"db02abe9-b7ce-4cc5-afbc-4d78a0b8ad16\");\n    if (el != null) {\n      const html = (() => {\n        if (typeof root.Bokeh === \"undefined\") {\n          if (error == null) {\n            return \"BokehJS is loading ...\";\n          } else {\n            return \"BokehJS failed to load.\";\n          }\n        } else {\n          const prefix = `BokehJS ${root.Bokeh.version}`;\n          if (error == null) {\n            return `${prefix} successfully loaded.`;\n          } else {\n            return `${prefix} <b>encountered errors</b> while loading and may not function as expected.`;\n          }\n        }\n      })();\n      el.innerHTML = html;\n\n      if (error != null) {\n        const wrapper = document.createElement(\"div\");\n        wrapper.style.overflow = \"auto\";\n        wrapper.style.height = \"5em\";\n        wrapper.style.resize = \"vertical\";\n        const content = document.createElement(\"div\");\n        content.style.fontFamily = \"monospace\";\n        content.style.whiteSpace = \"pre-wrap\";\n        content.style.backgroundColor = \"rgb(255, 221, 221)\";\n        content.textContent = error.stack ?? error.toString();\n        wrapper.append(content);\n        el.append(wrapper);\n      }\n    } else if (Date.now() < root._bokeh_timeout) {\n      setTimeout(() => display_loaded(error), 100);\n    }\n  }\n\n  function run_callbacks() {\n    try {\n      root._bokeh_onload_callbacks.forEach(function(callback) {\n        if (callback != null)\n          callback();\n      });\n    } finally {\n      delete root._bokeh_onload_callbacks\n    }\n    console.debug(\"Bokeh: all callbacks have finished\");\n  }\n\n  function load_libs(css_urls, js_urls, callback) {\n    if (css_urls == null) css_urls = [];\n    if (js_urls == null) js_urls = [];\n\n    root._bokeh_onload_callbacks.push(callback);\n    if (root._bokeh_is_loading > 0) {\n      console.debug(\"Bokeh: BokehJS is being loaded, scheduling callback at\", now());\n      return null;\n    }\n    if (js_urls == null || js_urls.length === 0) {\n      run_callbacks();\n      return null;\n    }\n    console.debug(\"Bokeh: BokehJS not loaded, scheduling load and callback at\", now());\n    root._bokeh_is_loading = css_urls.length + js_urls.length;\n\n    function on_load() {\n      root._bokeh_is_loading--;\n      if (root._bokeh_is_loading === 0) {\n        console.debug(\"Bokeh: all BokehJS libraries/stylesheets loaded\");\n        run_callbacks()\n      }\n    }\n\n    function on_error(url) {\n      console.error(\"failed to load \" + url);\n    }\n\n    for (let i = 0; i < css_urls.length; i++) {\n      const url = css_urls[i];\n      const element = document.createElement(\"link\");\n      element.onload = on_load;\n      element.onerror = on_error.bind(null, url);\n      element.rel = \"stylesheet\";\n      element.type = \"text/css\";\n      element.href = url;\n      console.debug(\"Bokeh: injecting link tag for BokehJS stylesheet: \", url);\n      document.body.appendChild(element);\n    }\n\n    for (let i = 0; i < js_urls.length; i++) {\n      const url = js_urls[i];\n      const element = document.createElement('script');\n      element.onload = on_load;\n      element.onerror = on_error.bind(null, url);\n      element.async = false;\n      element.src = url;\n      console.debug(\"Bokeh: injecting script tag for BokehJS library: \", url);\n      document.head.appendChild(element);\n    }\n  };\n\n  function inject_raw_css(css) {\n    const element = document.createElement(\"style\");\n    element.appendChild(document.createTextNode(css));\n    document.body.appendChild(element);\n  }\n\n  const js_urls = [\"https://cdn.bokeh.org/bokeh/release/bokeh-3.6.0.min.js\", \"https://cdn.bokeh.org/bokeh/release/bokeh-gl-3.6.0.min.js\", \"https://cdn.bokeh.org/bokeh/release/bokeh-widgets-3.6.0.min.js\", \"https://cdn.bokeh.org/bokeh/release/bokeh-tables-3.6.0.min.js\", \"https://cdn.bokeh.org/bokeh/release/bokeh-mathjax-3.6.0.min.js\"];\n  const css_urls = [];\n\n  const inline_js = [    function(Bokeh) {\n      Bokeh.set_log_level(\"info\");\n    },\nfunction(Bokeh) {\n    }\n  ];\n\n  function run_inline_js() {\n    if (root.Bokeh !== undefined || force === true) {\n      try {\n            for (let i = 0; i < inline_js.length; i++) {\n      inline_js[i].call(root, root.Bokeh);\n    }\n\n      } catch (error) {display_loaded(error);throw error;\n      }if (force === true) {\n        display_loaded();\n      }} else if (Date.now() < root._bokeh_timeout) {\n      setTimeout(run_inline_js, 100);\n    } else if (!root._bokeh_failed_load) {\n      console.log(\"Bokeh: BokehJS failed to load within specified timeout.\");\n      root._bokeh_failed_load = true;\n    } else if (force !== true) {\n      const cell = $(document.getElementById(\"db02abe9-b7ce-4cc5-afbc-4d78a0b8ad16\")).parents('.cell').data().cell;\n      cell.output_area.append_execute_result(NB_LOAD_WARNING)\n    }\n  }\n\n  if (root._bokeh_is_loading === 0) {\n    console.debug(\"Bokeh: BokehJS loaded, going straight to plotting\");\n    run_inline_js();\n  } else {\n    load_libs(css_urls, js_urls, function() {\n      console.debug(\"Bokeh: BokehJS plotting callback run at\", now());\n      run_inline_js();\n    });\n  }\n}(window));"
     },
     "metadata": {},
     "output_type": "display_data"
    }
   ],
   "source": [
    "import os\n",
    "import sys\n",
    "import pandas as pd\n",
    "import numpy as np \n",
    "import math\n",
    "from sklearn.preprocessing import MinMaxScaler\n",
    "from sklearn.metrics import mean_squared_error\n",
    "from sklearn.model_selection import train_test_split\n",
    "import keras\n",
    "from keras.models import Sequential\n",
    "from keras.layers import Dense, Activation, Bidirectional, LSTM, GRU\n",
    "import tensorflow as tf\n",
    "from bokeh.io import output_notebook\n",
    "from utils import (get_number_processors, plot_series, to_1dimension, plot_series_prediction)\n",
    "\n",
    "print(\"OS: \", sys.platform)\n",
    "print(\"Python: \", sys.version)\n",
    "print(\"Keras: \", keras.__version__)\n",
    "print(\"Tensorflow: \", tf.__version__)\n",
    "print(\"Numpy: \", np.__version__)\n",
    "print(\"Number of CPU processors: \", get_number_processors())\n",
    "\n",
    "%load_ext autoreload\n",
    "%autoreload 2\n",
    "\n",
    "output_notebook()"
   ]
  },
  {
   "cell_type": "markdown",
   "id": "3337bb11-b2fc-4869-89c4-bd13314825cb",
   "metadata": {},
   "source": [
    "\n",
    "## Data\n",
    "## The data we are going to use is Microsoft stock prices from 2012 to 2017. The data can be accessed directly in Yahoo finance.\n",
    "\n",
    "## The parameter TIME_AHEAD sets the number of days that you want to predict in advance. The more in the future you want to predict, the less accurate the prediction will be."
   ]
  },
  {
   "cell_type": "code",
   "execution_count": 13,
   "id": "032d48c4-370d-4556-9750-7040ae177510",
   "metadata": {},
   "outputs": [],
   "source": [
    "DATA = os.path.join('data', 'MSFT_2012_2017.csv')\n",
    "EPOCHS = 5\n",
    "TEST_SIZE = 0.3\n",
    "TIME_AHEAD = 1 #prediction step\n",
    "BATCH_SIZE = 1\n",
    "UNITS = 25"
   ]
  },
  {
   "cell_type": "code",
   "execution_count": 14,
   "id": "08a51ecb-8e73-4bf6-9ae0-591bb164838d",
   "metadata": {},
   "outputs": [
    {
     "name": "stdout",
     "output_type": "stream",
     "text": [
      "(1509, 5)\n"
     ]
    },
    {
     "data": {
      "text/html": [
       "<div>\n",
       "<style scoped>\n",
       "    .dataframe tbody tr th:only-of-type {\n",
       "        vertical-align: middle;\n",
       "    }\n",
       "\n",
       "    .dataframe tbody tr th {\n",
       "        vertical-align: top;\n",
       "    }\n",
       "\n",
       "    .dataframe thead th {\n",
       "        text-align: right;\n",
       "    }\n",
       "</style>\n",
       "<table border=\"1\" class=\"dataframe\">\n",
       "  <thead>\n",
       "    <tr style=\"text-align: right;\">\n",
       "      <th></th>\n",
       "      <th>Date</th>\n",
       "      <th>Open</th>\n",
       "      <th>High</th>\n",
       "      <th>Low</th>\n",
       "      <th>Close</th>\n",
       "    </tr>\n",
       "  </thead>\n",
       "  <tbody>\n",
       "    <tr>\n",
       "      <th>0</th>\n",
       "      <td>2012-01-03</td>\n",
       "      <td>26.549999</td>\n",
       "      <td>26.959999</td>\n",
       "      <td>26.389999</td>\n",
       "      <td>26.770000</td>\n",
       "    </tr>\n",
       "    <tr>\n",
       "      <th>1</th>\n",
       "      <td>2012-01-04</td>\n",
       "      <td>26.820000</td>\n",
       "      <td>27.469999</td>\n",
       "      <td>26.780001</td>\n",
       "      <td>27.400000</td>\n",
       "    </tr>\n",
       "    <tr>\n",
       "      <th>2</th>\n",
       "      <td>2012-01-05</td>\n",
       "      <td>27.379999</td>\n",
       "      <td>27.730000</td>\n",
       "      <td>27.290001</td>\n",
       "      <td>27.680000</td>\n",
       "    </tr>\n",
       "    <tr>\n",
       "      <th>3</th>\n",
       "      <td>2012-01-06</td>\n",
       "      <td>27.530001</td>\n",
       "      <td>28.190001</td>\n",
       "      <td>27.530001</td>\n",
       "      <td>28.110001</td>\n",
       "    </tr>\n",
       "    <tr>\n",
       "      <th>4</th>\n",
       "      <td>2012-01-09</td>\n",
       "      <td>28.049999</td>\n",
       "      <td>28.100000</td>\n",
       "      <td>27.719999</td>\n",
       "      <td>27.740000</td>\n",
       "    </tr>\n",
       "  </tbody>\n",
       "</table>\n",
       "</div>"
      ],
      "text/plain": [
       "         Date       Open       High        Low      Close\n",
       "0  2012-01-03  26.549999  26.959999  26.389999  26.770000\n",
       "1  2012-01-04  26.820000  27.469999  26.780001  27.400000\n",
       "2  2012-01-05  27.379999  27.730000  27.290001  27.680000\n",
       "3  2012-01-06  27.530001  28.190001  27.530001  28.110001\n",
       "4  2012-01-09  28.049999  28.100000  27.719999  27.740000"
      ]
     },
     "execution_count": 14,
     "metadata": {},
     "output_type": "execute_result"
    }
   ],
   "source": [
    "df = pd.read_csv(\"MSFT_2012_2017.csv\")\n",
    "df = df.drop(['Adj Close', 'Volume'], axis=1)\n",
    "print(df.shape)\n",
    "df.head()"
   ]
  },
  {
   "cell_type": "markdown",
   "id": "1aa1ad7d-ac51-4ece-a3b7-9c142edeab94",
   "metadata": {},
   "source": [
    "##### To simplify the problem, we are going to take as input the average of the Open, High, Low and Close values."
   ]
  },
  {
   "cell_type": "code",
   "execution_count": 16,
   "id": "1eeebeb4-49fa-4882-8acd-753efc358b90",
   "metadata": {},
   "outputs": [
    {
     "name": "stdout",
     "output_type": "stream",
     "text": [
      "Date      object\n",
      "Open     float64\n",
      "High     float64\n",
      "Low      float64\n",
      "Close    float64\n",
      "dtype: object\n"
     ]
    }
   ],
   "source": [
    "print(df.dtypes)\n"
   ]
  },
  {
   "cell_type": "code",
   "execution_count": 19,
   "id": "00c5b37a-5176-4885-935a-d0295fbee7ca",
   "metadata": {},
   "outputs": [
    {
     "data": {
      "image/png": "[encoded data removed]",
      "text/plain": [
       "<Figure size 640x480 with 1 Axes>"
      ]
     },
     "metadata": {},
     "output_type": "display_data"
    }
   ],
   "source": [
    "numeric_df = df.select_dtypes(include=[np.number])\n",
    "mean_price = numeric_df.mean(axis=1)\n",
    "plot_series(mean_price, xlabel='Days', ylabel='Mean value of Microsoft Stock', color='b', legend='Mean price')\n"
   ]
  },
  {
   "cell_type": "markdown",
   "id": "a5264b8e-91e1-4d06-8728-2fe13684aa51",
   "metadata": {},
   "source": [
    "#### The next step is to scale the dataset, this generally helps the prediction to be more accourate"
   ]
  },
  {
   "cell_type": "code",
   "execution_count": 20,
   "id": "507c9dd0-b415-45ed-a5cf-9ea7f6090d28",
   "metadata": {},
   "outputs": [],
   "source": [
    "scaler = MinMaxScaler(feature_range=(0, 1)) #other typical scale values are -1,1\n",
    "mean_price = scaler.fit_transform(np.reshape(mean_price.values, (len(mean_price),1)))"
   ]
  },
  {
   "cell_type": "markdown",
   "id": "8e3c1008-488a-45f7-b48d-87a59725d835",
   "metadata": {},
   "source": [
    "#### Once, the data has been scaled, we can create the train and test sets."
   ]
  },
  {
   "cell_type": "code",
   "execution_count": 21,
   "id": "91658b7f-43dd-4d1f-a429-4d88ce43821b",
   "metadata": {},
   "outputs": [
    {
     "name": "stdout",
     "output_type": "stream",
     "text": [
      "(1056, 1)\n",
      "(453, 1)\n"
     ]
    }
   ],
   "source": [
    "\n",
    "train, test = train_test_split(mean_price, test_size=TEST_SIZE, shuffle=False)\n",
    "print(train.shape)\n",
    "print(test.shape)"
   ]
  },
  {
   "cell_type": "code",
   "execution_count": 22,
   "id": "71912723-b104-4e23-802d-b91caadf6783",
   "metadata": {},
   "outputs": [
    {
     "name": "stdout",
     "output_type": "stream",
     "text": [
      "(1054, 1, 1) (1054,)\n",
      "(451, 1, 1) (451,)\n"
     ]
    }
   ],
   "source": [
    "\n",
    "X_train, y_train = to_1dimension(train, TIME_AHEAD)\n",
    "X_test, y_test = to_1dimension(test, TIME_AHEAD)\n",
    "print(X_train.shape, y_train.shape)\n",
    "print(X_test.shape, y_test.shape)"
   ]
  },
  {
   "cell_type": "markdown",
   "id": "28c61447-1a48-4df9-99b1-bca1b7291aad",
   "metadata": {},
   "source": [
    "\n",
    "## **LSTM**"
   ]
  },
  {
   "cell_type": "markdown",
   "id": "e468823b-1165-4921-b4aa-698a3822a4ed",
   "metadata": {},
   "source": [
    "### Now we are going to test different RNN structures.\n",
    "\n"
   ]
  },
  {
   "cell_type": "code",
   "execution_count": 23,
   "id": "a0cda3a7-6598-4bcd-9e4d-9338a3c580a1",
   "metadata": {},
   "outputs": [],
   "source": [
    "\n",
    "def create_symbol(model_name='LSTM', units=10, activation='linear', time_ahead=1):\n",
    "    model = Sequential()\n",
    "    if model_name == 'LSTM':\n",
    "        model.add(LSTM(units, input_shape=(1, time_ahead)))\n",
    "    elif model_name == 'BiLSTM':\n",
    "        model.add(Bidirectional(LSTM(units), input_shape=(1, time_ahead)))\n",
    "    elif model_name == 'GRU':\n",
    "        model.add(GRU(units, input_shape=(1, time_ahead)))\n",
    "    else:\n",
    "        raise ValueError(\"Wrong model name\")\n",
    "    model.add(Dense(1))\n",
    "    model.add(Activation('linear'))\n",
    "    return model"
   ]
  },
  {
   "cell_type": "markdown",
   "id": "1082122a-f15f-4ddc-840a-59bba83718dd",
   "metadata": {},
   "source": [
    "#### Let's train the model. For optimization, we use ADAM algorithm. In time series, adaptative optimization methods tend to get better results than traditional stochastic gradient descent methods. You can play with the different optimizers available in Keras."
   ]
  },
  {
   "cell_type": "code",
   "execution_count": 24,
   "id": "e6f0ac19-3b92-46aa-85e5-546f61247bd3",
   "metadata": {},
   "outputs": [
    {
     "name": "stderr",
     "output_type": "stream",
     "text": [
      "C:\\Users\\andyv\\anaconda3\\Lib\\site-packages\\keras\\src\\layers\\rnn\\rnn.py:199: UserWarning: Do not pass an `input_shape`/`input_dim` argument to a layer. When using Sequential models, prefer using an `Input(shape)` object as the first layer in the model instead.\n",
      "  super().__init__(**kwargs)\n"
     ]
    }
   ],
   "source": [
    "\n",
    "model = create_symbol(model_name='LSTM', units=UNITS, time_ahead=TIME_AHEAD)\n",
    "model.compile(optimizer='adam', loss='mean_squared_error') "
   ]
  },
  {
   "cell_type": "code",
   "execution_count": 25,
   "id": "d83e24c1-b2a6-41d3-9936-83e85fd52c91",
   "metadata": {},
   "outputs": [
    {
     "name": "stdout",
     "output_type": "stream",
     "text": [
      "Epoch 1/5\n",
      "1054/1054 - 2s - 2ms/step - loss: 0.0067\n",
      "Epoch 2/5\n",
      "1054/1054 - 1s - 858us/step - loss: 9.3118e-05\n",
      "Epoch 3/5\n",
      "1054/1054 - 1s - 787us/step - loss: 9.4713e-05\n",
      "Epoch 4/5\n",
      "1054/1054 - 1s - 752us/step - loss: 9.8118e-05\n",
      "Epoch 5/5\n",
      "1054/1054 - 1s - 834us/step - loss: 9.2055e-05\n"
     ]
    },
    {
     "data": {
      "text/plain": [
       "<keras.src.callbacks.history.History at 0x2277c136fc0>"
      ]
     },
     "execution_count": 25,
     "metadata": {},
     "output_type": "execute_result"
    }
   ],
   "source": [
    "\n",
    "model.fit(X_train, y_train, epochs=EPOCHS, batch_size=BATCH_SIZE, verbose=2)"
   ]
  },
  {
   "cell_type": "markdown",
   "id": "9748617b-5961-472c-b225-5f81c69c89c5",
   "metadata": {},
   "source": [
    "\n",
    "### Once the model is trained, we can predict on the test set and obtain the RMSE value. The model prediction pred_test will have a shape of (num_rows, TIME_AHEAD), having the predicted values for the next TIME_AHEAD days."
   ]
  },
  {
   "cell_type": "code",
   "execution_count": 26,
   "id": "0a6b5cba-6e10-44d6-b7ec-47d554405587",
   "metadata": {},
   "outputs": [],
   "source": [
    "y_test_inv = scaler.inverse_transform([y_test])\n",
    "mean_price_inv = scaler.inverse_transform(mean_price)"
   ]
  },
  {
   "cell_type": "code",
   "execution_count": 27,
   "id": "750f172a-b4ac-4bc2-9471-9008232fb93f",
   "metadata": {},
   "outputs": [
    {
     "name": "stdout",
     "output_type": "stream",
     "text": [
      "\u001b[1m15/15\u001b[0m \u001b[32m━━━━━━━━━━━━━━━━━━━━\u001b[0m\u001b[37m\u001b[0m \u001b[1m0s\u001b[0m 7ms/step\n",
      "Test RMSE: 0.96\n"
     ]
    }
   ],
   "source": [
    "pred_test = model.predict(X_test) #pred_test.shape = (num_rows, TIME_AHEAD)\n",
    "pred_test = scaler.inverse_transform(pred_test)\n",
    "score = math.sqrt(mean_squared_error(y_test_inv[0], pred_test[:,0]))\n",
    "print('Test RMSE: %.2f' % (score))"
   ]
  },
  {
   "cell_type": "code",
   "execution_count": 32,
   "id": "65e1faca-8742-419c-8075-c5a4d5748c60",
   "metadata": {},
   "outputs": [
    {
     "name": "stdout",
     "output_type": "stream",
     "text": [
      "\u001b[1m33/33\u001b[0m \u001b[32m━━━━━━━━━━━━━━━━━━━━\u001b[0m\u001b[37m\u001b[0m \u001b[1m0s\u001b[0m 988us/step\n"
     ]
    },
    {
     "data": {
      "text/html": [
       "\n",
       "  <div id=\"e177ced4-28b8-482f-a583-7519d22bdf69\" data-root-id=\"p1195\" style=\"display: contents;\"></div>\n"
      ]
     },
     "metadata": {},
     "output_type": "display_data"
    },
    {
     "data": {
      "application/javascript": [
       "(function(root) {\n",
       "  function embed_document(root) {\n",
       "  const docs_json = {\"e9559dd0-f381-44b1-a997-707752edcabd\":{\"version\":\"3.6.0\",\"title\":\"Bokeh Application\",\"roots\":[{\"type\":\"object\",\"name\":\"Figure\",\"id\":\"p1195\",\"attributes\":{\"width\":900,\"height\":400,\"x_range\":{\"type\":\"object\",\"name\":\"DataRange1d\",\"id\":\"p1196\"},\"y_range\":{\"type\":\"object\",\"name\":\"DataRange1d\",\"id\":\"p1197\"},\"x_scale\":{\"type\":\"object\",\"name\":\"LinearScale\",\"id\":\"p1205\"},\"y_scale\":{\"type\":\"object\",\"name\":\"LinearScale\",\"id\":\"p1206\"},\"title\":{\"type\":\"object\",\"name\":\"Title\",\"id\":\"p1198\",\"attributes\":{\"text\":\"LSTM prediction\"}},\"renderers\":[{\"type\":\"object\",\"name\":\"GlyphRenderer\",\"id\":\"p1235\",\"attributes\":{\"data_source\":{\"type\":\"object\",\"name\":\"ColumnDataSource\",\"id\":\"p1229\",\"attributes\":{\"selected\":{\"type\":\"object\",\"name\":\"Selection\",\"id\":\"p1230\",\"attributes\":{\"indices\":[],\"line_indices\":[]}},\"selection_policy\":{\"type\":\"object\",\"name\":\"UnionRenderers\",\"id\":\"p1231\"},\"data\":{\"type\":\"map\",\"entries\":[[\"x\",{\"type\":\"ndarray\",\"array\":{\"type\":\"bytes\",\"data\":\"AAAAAAEAAAACAAAAAwAAAAQAAAAFAAAABgAAAAcAAAAIAAAACQAAAAoAAAALAAAADAAAAA0AAAAOAAAADwAAABAAAAARAAAAEgAAABMAAAAUAAAAFQAAABYAAAAXAAAAGAAAABkAAAAaAAAAGwAAABwAAAAdAAAAHgAAAB8AAAAgAAAAIQAAACIAAAAjAAAAJAAAACUAAAAmAAAAJwAAACgAAAApAAAAKgAAACsAAAAsAAAALQAAAC4AAAAvAAAAMAAAADEAAAAyAAAAMwAAADQAAAA1AAAANgAAADcAAAA4AAAAOQAAADoAAAA7AAAAPAAAAD0AAAA+AAAAPwAAAEAAAABBAAAAQgAAAEMAAABEAAAARQAAAEYAAABHAAAASAAAAEkAAABKAAAASwAAAEwAAABNAAAATgAAAE8AAABQAAAAUQAAAFIAAABTAAAAVAAAAFUAAABWAAAAVwAAAFgAAABZAAAAWgAAAFsAAABcAAAAXQAAAF4AAABfAAAAYAAAAGEAAABiAAAAYwAAAGQAAABlAAAAZgAAAGcAAABoAAAAaQAAAGoAAABrAAAAbAAAAG0AAABuAAAAbwAAAHAAAABxAAAAcgAAAHMAAAB0AAAAdQAAAHYAAAB3AAAAeAAAAHkAAAB6AAAAewAAAHwAAAB9AAAAfgAAAH8AAACAAAAAgQAAAIIAAACDAAAAhAAAAIUAAACGAAAAhwAAAIgAAACJAAAAigAAAIsAAACMAAAAjQAAAI4AAACPAAAAkAAAAJEAAACSAAAAkwAAAJQAAACVAAAAlgAAAJcAAACYAAAAmQAAAJoAAACbAAAAnAAAAJ0AAACeAAAAnwAAAKAAAAChAAAAogAAAKMAAACkAAAApQAAAKYAAACnAAAAqAAAAKkAAACqAAAAqwAAAKwAAACtAAAArgAAAK8AAACwAAAAsQAAALIAAACzAAAAtAAAALUAAAC2AAAAtwAAALgAAAC5AAAAugAAALsAAAC8AAAAvQAAAL4AAAC/AAAAwAAAAMEAAADCAAAAwwAAAMQAAADFAAAAxgAAAMcAAADIAAAAyQAAAMoAAADLAAAAzAAAAM0AAADOAAAAzwAAANAAAADRAAAA0gAAANMAAADUAAAA1QAAANYAAADXAAAA2AAAANkAAADaAAAA2wAAANwAAADdAAAA3gAAAN8AAADgAAAA4QAAAOIAAADjAAAA5AAAAOUAAADmAAAA5wAAAOgAAADpAAAA6gAAAOsAAADsAAAA7QAAAO4AAADvAAAA8AAAAPEAAADyAAAA8wAAAPQAAAD1AAAA9gAAAPcAAAD4AAAA+QAAAPoAAAD7AAAA/AAAAP0AAAD+AAAA/wAAAAABAAABAQAAAgEAAAMBAAAEAQAABQEAAAYBAAAHAQAACAEAAAkBAAAKAQAACwEAAAwBAAANAQAADgEAAA8BAAAQAQAAEQEAABIBAAATAQAAFAEAABUBAAAWAQAAFwEAABgBAAAZAQAAGgEAABsBAAAcAQAAHQEAAB4BAAAfAQAAIAEAACEBAAAiAQAAIwEAACQBAAAlAQAAJgEAACcBAAAoAQAAKQEAACoBAAArAQAALAEAAC0BAAAuAQAALwEAADABAAAxAQAAMgEAADMBAAA0AQAANQEAADYBAAA3AQAAOAEAADkBAAA6AQAAOwEAADwBAAA9AQAAPgEAAD8BAABAAQAAQQEAAEIBAABDAQAARAEAAEUBAABGAQAARwEAAEgBAABJAQAASgEAAEsBAABMAQAATQEAAE4BAABPAQAAUAEAAFEBAABSAQAAUwEAAFQBAABVAQAAVgEAAFcBAABYAQAAWQEAAFoBAABbAQAAXAEAAF0BAABeAQAAXwEAAGABAABhAQAAYgEAAGMBAABkAQAAZQEAAGYBAABnAQAAaAEAAGkBAABqAQAAawEAAGwBAABtAQAAbgEAAG8BAABwAQAAcQEAAHIBAABzAQAAdAEAAHUBAAB2AQAAdwEAAHgBAAB5AQAAegEAAHsBAAB8AQAAfQEAAH4BAAB/AQAAgAEAAIEBAACCAQAAgwEAAIQBAACFAQAAhgEAAIcBAACIAQAAiQEAAIoBAACLAQAAjAEAAI0BAACOAQAAjwEAAJABAACRAQAAkgEAAJMBAACUAQAAlQEAAJYBAACXAQAAmAEAAJkBAACaAQAAmwEAAJwBAACdAQAAngEAAJ8BAACgAQAAoQEAAKIBAACjAQAApAEAAKUBAACmAQAApwEAAKgBAACpAQAAqgEAAKsBAACsAQAArQEAAK4BAACvAQAAsAEAALEBAACyAQAAswEAALQBAAC1AQAAtgEAALcBAAC4AQAAuQEAALoBAAC7AQAAvAEAAL0BAAC+AQAAvwEAAMABAADBAQAAwgEAAMMBAADEAQAAxQEAAMYBAADHAQAAyAEAAMkBAADKAQAAywEAAMwBAADNAQAAzgEAAM8BAADQAQAA0QEAANIBAADTAQAA1AEAANUBAADWAQAA1wEAANgBAADZAQAA2gEAANsBAADcAQAA3QEAAN4BAADfAQAA4AEAAOEBAADiAQAA4wEAAOQBAADlAQAA5gEAAOcBAADoAQAA6QEAAOoBAADrAQAA7AEAAO0BAADuAQAA7wEAAPABAADxAQAA8gEAAPMBAAD0AQAA9QEAAPYBAAD3AQAA+AEAAPkBAAD6AQAA+wEAAPwBAAD9AQAA/gEAAP8BAAAAAgAAAQIAAAICAAADAgAABAIAAAUCAAAGAgAABwIAAAgCAAAJAgAACgIAAAsCAAAMAgAADQIAAA4CAAAPAgAAEAIAABECAAASAgAAEwIAABQCAAAVAgAAFgIAABcCAAAYAgAAGQIAABoCAAAbAgAAHAIAAB0CAAAeAgAAHwIAACACAAAhAgAAIgIAACMCAAAkAgAAJQIAACYCAAAnAgAAKAIAACkCAAAqAgAAKwIAACwCAAAtAgAALgIAAC8CAAAwAgAAMQIAADICAAAzAgAANAIAADUCAAA2AgAANwIAADgCAAA5AgAAOgIAADsCAAA8AgAAPQIAAD4CAAA/AgAAQAIAAEECAABCAgAAQwIAAEQCAABFAgAARgIAAEcCAABIAgAASQIAAEoCAABLAgAATAIAAE0CAABOAgAATwIAAFACAABRAgAAUgIAAFMCAABUAgAAVQIAAFYCAABXAgAAWAIAAFkCAABaAgAAWwIAAFwCAABdAgAAXgIAAF8CAABgAgAAYQIAAGICAABjAgAAZAIAAGUCAABmAgAAZwIAAGgCAABpAgAAagIAAGsCAABsAgAAbQIAAG4CAABvAgAAcAIAAHECAAByAgAAcwIAAHQCAAB1AgAAdgIAAHcCAAB4AgAAeQIAAHoCAAB7AgAAfAIAAH0CAAB+AgAAfwIAAIACAACBAgAAggIAAIMCAACEAgAAhQIAAIYCAACHAgAAiAIAAIkCAACKAgAAiwIAAIwCAACNAgAAjgIAAI8CAACQAgAAkQIAAJICAACTAgAAlAIAAJUCAACWAgAAlwIAAJgCAACZAgAAmgIAAJsCAACcAgAAnQIAAJ4CAACfAgAAoAIAAKECAACiAgAAowIAAKQCAAClAgAApgIAAKcCAACoAgAAqQIAAKoCAACrAgAArAIAAK0CAACuAgAArwIAALACAACxAgAAsgIAALMCAAC0AgAAtQIAALYCAAC3AgAAuAIAALkCAAC6AgAAuwIAALwCAAC9AgAAvgIAAL8CAADAAgAAwQIAAMICAADDAgAAxAIAAMUCAADGAgAAxwIAAMgCAADJAgAAygIAAMsCAADMAgAAzQIAAM4CAADPAgAA0AIAANECAADSAgAA0wIAANQCAADVAgAA1gIAANcCAADYAgAA2QIAANoCAADbAgAA3AIAAN0CAADeAgAA3wIAAOACAADhAgAA4gIAAOMCAADkAgAA5QIAAOYCAADnAgAA6AIAAOkCAADqAgAA6wIAAOwCAADtAgAA7gIAAO8CAADwAgAA8QIAAPICAADzAgAA9AIAAPUCAAD2AgAA9wIAAPgCAAD5AgAA+gIAAPsCAAD8AgAA/QIAAP4CAAD/AgAAAAMAAAEDAAACAwAAAwMAAAQDAAAFAwAABgMAAAcDAAAIAwAACQMAAAoDAAALAwAADAMAAA0DAAAOAwAADwMAABADAAARAwAAEgMAABMDAAAUAwAAFQMAABYDAAAXAwAAGAMAABkDAAAaAwAAGwMAABwDAAAdAwAAHgMAAB8DAAAgAwAAIQMAACIDAAAjAwAAJAMAACUDAAAmAwAAJwMAACgDAAApAwAAKgMAACsDAAAsAwAALQMAAC4DAAAvAwAAMAMAADEDAAAyAwAAMwMAADQDAAA1AwAANgMAADcDAAA4AwAAOQMAADoDAAA7AwAAPAMAAD0DAAA+AwAAPwMAAEADAABBAwAAQgMAAEMDAABEAwAARQMAAEYDAABHAwAASAMAAEkDAABKAwAASwMAAEwDAABNAwAATgMAAE8DAABQAwAAUQMAAFIDAABTAwAAVAMAAFUDAABWAwAAVwMAAFgDAABZAwAAWgMAAFsDAABcAwAAXQMAAF4DAABfAwAAYAMAAGEDAABiAwAAYwMAAGQDAABlAwAAZgMAAGcDAABoAwAAaQMAAGoDAABrAwAAbAMAAG0DAABuAwAAbwMAAHADAABxAwAAcgMAAHMDAAB0AwAAdQMAAHYDAAB3AwAAeAMAAHkDAAB6AwAAewMAAHwDAAB9AwAAfgMAAH8DAACAAwAAgQMAAIIDAACDAwAAhAMAAIUDAACGAwAAhwMAAIgDAACJAwAAigMAAIsDAACMAwAAjQMAAI4DAACPAwAAkAMAAJEDAACSAwAAkwMAAJQDAACVAwAAlgMAAJcDAACYAwAAmQMAAJoDAACbAwAAnAMAAJ0DAACeAwAAnwMAAKADAAChAwAAogMAAKMDAACkAwAApQMAAKYDAACnAwAAqAMAAKkDAACqAwAAqwMAAKwDAACtAwAArgMAAK8DAACwAwAAsQMAALIDAACzAwAAtAMAALUDAAC2AwAAtwMAALgDAAC5AwAAugMAALsDAAC8AwAAvQMAAL4DAAC/AwAAwAMAAMEDAADCAwAAwwMAAMQDAADFAwAAxgMAAMcDAADIAwAAyQMAAMoDAADLAwAAzAMAAM0DAADOAwAAzwMAANADAADRAwAA0gMAANMDAADUAwAA1QMAANYDAADXAwAA2AMAANkDAADaAwAA2wMAANwDAADdAwAA3gMAAN8DAADgAwAA4QMAAOIDAADjAwAA5AMAAOUDAADmAwAA5wMAAOgDAADpAwAA6gMAAOsDAADsAwAA7QMAAO4DAADvAwAA8AMAAPEDAADyAwAA8wMAAPQDAAD1AwAA9gMAAPcDAAD4AwAA+QMAAPoDAAD7AwAA/AMAAP0DAAD+AwAA/wMAAAAEAAABBAAAAgQAAAMEAAAEBAAABQQAAAYEAAAHBAAACAQAAAkEAAAKBAAACwQAAAwEAAANBAAADgQAAA8EAAAQBAAAEQQAABIEAAATBAAAFAQAABUEAAAWBAAAFwQAABgEAAAZBAAAGgQAABsEAAAcBAAAHQQAAB4EAAAfBAAAIAQAACEEAAAiBAAAIwQAACQEAAAlBAAAJgQAACcEAAAoBAAAKQQAACoEAAArBAAALAQAAC0EAAAuBAAALwQAADAEAAAxBAAAMgQAADMEAAA0BAAANQQAADYEAAA3BAAAOAQAADkEAAA6BAAAOwQAADwEAAA9BAAAPgQAAD8EAABABAAAQQQAAEIEAABDBAAARAQAAEUEAABGBAAARwQAAEgEAABJBAAASgQAAEsEAABMBAAATQQAAE4EAABPBAAAUAQAAFEEAABSBAAAUwQAAFQEAABVBAAAVgQAAFcEAABYBAAAWQQAAFoEAABbBAAAXAQAAF0EAABeBAAAXwQAAGAEAABhBAAAYgQAAGMEAABkBAAAZQQAAGYEAABnBAAAaAQAAGkEAABqBAAAawQAAGwEAABtBAAAbgQAAG8EAABwBAAAcQQAAHIEAABzBAAAdAQAAHUEAAB2BAAAdwQAAHgEAAB5BAAAegQAAHsEAAB8BAAAfQQAAH4EAAB/BAAAgAQAAIEEAACCBAAAgwQAAIQEAACFBAAAhgQAAIcEAACIBAAAiQQAAIoEAACLBAAAjAQAAI0EAACOBAAAjwQAAJAEAACRBAAAkgQAAJMEAACUBAAAlQQAAJYEAACXBAAAmAQAAJkEAACaBAAAmwQAAJwEAACdBAAAngQAAJ8EAACgBAAAoQQAAKIEAACjBAAApAQAAKUEAACmBAAApwQAAKgEAACpBAAAqgQAAKsEAACsBAAArQQAAK4EAACvBAAAsAQAALEEAACyBAAAswQAALQEAAC1BAAAtgQAALcEAAC4BAAAuQQAALoEAAC7BAAAvAQAAL0EAAC+BAAAvwQAAMAEAADBBAAAwgQAAMMEAADEBAAAxQQAAMYEAADHBAAAyAQAAMkEAADKBAAAywQAAMwEAADNBAAAzgQAAM8EAADQBAAA0QQAANIEAADTBAAA1AQAANUEAADWBAAA1wQAANgEAADZBAAA2gQAANsEAADcBAAA3QQAAN4EAADfBAAA4AQAAOEEAADiBAAA4wQAAOQEAADlBAAA5gQAAOcEAADoBAAA6QQAAOoEAADrBAAA7AQAAO0EAADuBAAA7wQAAPAEAADxBAAA8gQAAPMEAAD0BAAA9QQAAPYEAAD3BAAA+AQAAPkEAAD6BAAA+wQAAPwEAAD9BAAA/gQAAP8EAAAABQAAAQUAAAIFAAADBQAABAUAAAUFAAAGBQAABwUAAAgFAAAJBQAACgUAAAsFAAAMBQAADQUAAA4FAAAPBQAAEAUAABEFAAASBQAAEwUAABQFAAAVBQAAFgUAABcFAAAYBQAAGQUAABoFAAAbBQAAHAUAAB0FAAAeBQAAHwUAACAFAAAhBQAAIgUAACMFAAAkBQAAJQUAACYFAAAnBQAAKAUAACkFAAAqBQAAKwUAACwFAAAtBQAALgUAAC8FAAAwBQAAMQUAADIFAAAzBQAANAUAADUFAAA2BQAANwUAADgFAAA5BQAAOgUAADsFAAA8BQAAPQUAAD4FAAA/BQAAQAUAAEEFAABCBQAAQwUAAEQFAABFBQAARgUAAEcFAABIBQAASQUAAEoFAABLBQAATAUAAE0FAABOBQAATwUAAFAFAABRBQAAUgUAAFMFAABUBQAAVQUAAFYFAABXBQAAWAUAAFkFAABaBQAAWwUAAFwFAABdBQAAXgUAAF8FAABgBQAAYQUAAGIFAABjBQAAZAUAAGUFAABmBQAAZwUAAGgFAABpBQAAagUAAGsFAABsBQAAbQUAAG4FAABvBQAAcAUAAHEFAAByBQAAcwUAAHQFAAB1BQAAdgUAAHcFAAB4BQAAeQUAAHoFAAB7BQAAfAUAAH0FAAB+BQAAfwUAAIAFAACBBQAAggUAAIMFAACEBQAAhQUAAIYFAACHBQAAiAUAAIkFAACKBQAAiwUAAIwFAACNBQAAjgUAAI8FAACQBQAAkQUAAJIFAACTBQAAlAUAAJUFAACWBQAAlwUAAJgFAACZBQAAmgUAAJsFAACcBQAAnQUAAJ4FAACfBQAAoAUAAKEFAACiBQAAowUAAKQFAAClBQAApgUAAKcFAACoBQAAqQUAAKoFAACrBQAArAUAAK0FAACuBQAArwUAALAFAACxBQAAsgUAALMFAAC0BQAAtQUAALYFAAC3BQAAuAUAALkFAAC6BQAAuwUAALwFAAC9BQAAvgUAAL8FAADABQAAwQUAAMIFAADDBQAAxAUAAMUFAADGBQAAxwUAAMgFAADJBQAAygUAAMsFAADMBQAAzQUAAM4FAADPBQAA0AUAANEFAADSBQAA0wUAANQFAADVBQAA1gUAANcFAADYBQAA2QUAANoFAADbBQAA3AUAAN0FAADeBQAA3wUAAOAFAADhBQAA4gUAAOMFAADkBQAA\"},\"shape\":[1509],\"dtype\":\"int32\",\"order\":\"little\"}],[\"y\",{\"type\":\"ndarray\",\"array\":{\"type\":\"bytes\",\"data\":\"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\"},\"shape\":[1509],\"dtype\":\"float64\",\"order\":\"little\"}]]}}},\"view\":{\"type\":\"object\",\"name\":\"CDSView\",\"id\":\"p1236\",\"attributes\":{\"filter\":{\"type\":\"object\",\"name\":\"AllIndices\",\"id\":\"p1237\"}}},\"glyph\":{\"type\":\"object\",\"name\":\"Line\",\"id\":\"p1232\",\"attributes\":{\"x\":{\"type\":\"field\",\"field\":\"x\"},\"y\":{\"type\":\"field\",\"field\":\"y\"},\"line_color\":\"blue\",\"line_width\":2}},\"nonselection_glyph\":{\"type\":\"object\",\"name\":\"Line\",\"id\":\"p1233\",\"attributes\":{\"x\":{\"type\":\"field\",\"field\":\"x\"},\"y\":{\"type\":\"field\",\"field\":\"y\"},\"line_color\":\"blue\",\"line_alpha\":0.1,\"line_width\":2}},\"muted_glyph\":{\"type\":\"object\",\"name\":\"Line\",\"id\":\"p1234\",\"attributes\":{\"x\":{\"type\":\"field\",\"field\":\"x\"},\"y\":{\"type\":\"field\",\"field\":\"y\"},\"line_color\":\"blue\",\"line_alpha\":0.2,\"line_width\":2}}}},{\"type\":\"object\",\"name\":\"GlyphRenderer\",\"id\":\"p1246\",\"attributes\":{\"data_source\":{\"type\":\"object\",\"name\":\"ColumnDataSource\",\"id\":\"p1240\",\"attributes\":{\"selected\":{\"type\":\"object\",\"name\":\"Selection\",\"id\":\"p1241\",\"attributes\":{\"indices\":[],\"line_indices\":[]}},\"selection_policy\":{\"type\":\"object\",\"name\":\"UnionRenderers\",\"id\":\"p1242\"},\"data\":{\"type\":\"map\",\"entries\":[[\"x\",{\"type\":\"ndarray\",\"array\":{\"type\":\"bytes\",\"data\":\"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\"},\"shape\":[1054],\"dtype\":\"int32\",\"order\":\"little\"}],[\"y\",{\"type\":\"ndarray\",\"array\":{\"type\":\"bytes\",\"data\":\"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\"},\"shape\":[1054],\"dtype\":\"float32\",\"order\":\"little\"}]]}}},\"view\":{\"type\":\"object\",\"name\":\"CDSView\",\"id\":\"p1247\",\"attributes\":{\"filter\":{\"type\":\"object\",\"name\":\"AllIndices\",\"id\":\"p1248\"}}},\"glyph\":{\"type\":\"object\",\"name\":\"Line\",\"id\":\"p1243\",\"attributes\":{\"x\":{\"type\":\"field\",\"field\":\"x\"},\"y\":{\"type\":\"field\",\"field\":\"y\"},\"line_color\":\"green\",\"line_width\":2}},\"nonselection_glyph\":{\"type\":\"object\",\"name\":\"Line\",\"id\":\"p1244\",\"attributes\":{\"x\":{\"type\":\"field\",\"field\":\"x\"},\"y\":{\"type\":\"field\",\"field\":\"y\"},\"line_color\":\"green\",\"line_alpha\":0.1,\"line_width\":2}},\"muted_glyph\":{\"type\":\"object\",\"name\":\"Line\",\"id\":\"p1245\",\"attributes\":{\"x\":{\"type\":\"field\",\"field\":\"x\"},\"y\":{\"type\":\"field\",\"field\":\"y\"},\"line_color\":\"green\",\"line_alpha\":0.2,\"line_width\":2}}}},{\"type\":\"object\",\"name\":\"GlyphRenderer\",\"id\":\"p1256\",\"attributes\":{\"data_source\":{\"type\":\"object\",\"name\":\"ColumnDataSource\",\"id\":\"p1250\",\"attributes\":{\"selected\":{\"type\":\"object\",\"name\":\"Selection\",\"id\":\"p1251\",\"attributes\":{\"indices\":[],\"line_indices\":[]}},\"selection_policy\":{\"type\":\"object\",\"name\":\"UnionRenderers\",\"id\":\"p1252\"},\"data\":{\"type\":\"map\",\"entries\":[[\"x\",{\"type\":\"ndarray\",\"array\":{\"type\":\"bytes\",\"data\":\"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\"},\"shape\":[451],\"dtype\":\"int32\",\"order\":\"little\"}],[\"y\",{\"type\":\"ndarray\",\"array\":{\"type\":\"bytes\",\"data\":\"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\"},\"shape\":[451],\"dtype\":\"float32\",\"order\":\"little\"}]]}}},\"view\":{\"type\":\"object\",\"name\":\"CDSView\",\"id\":\"p1257\",\"attributes\":{\"filter\":{\"type\":\"object\",\"name\":\"AllIndices\",\"id\":\"p1258\"}}},\"glyph\":{\"type\":\"object\",\"name\":\"Line\",\"id\":\"p1253\",\"attributes\":{\"x\":{\"type\":\"field\",\"field\":\"x\"},\"y\":{\"type\":\"field\",\"field\":\"y\"},\"line_color\":\"red\",\"line_width\":2}},\"nonselection_glyph\":{\"type\":\"object\",\"name\":\"Line\",\"id\":\"p1254\",\"attributes\":{\"x\":{\"type\":\"field\",\"field\":\"x\"},\"y\":{\"type\":\"field\",\"field\":\"y\"},\"line_color\":\"red\",\"line_alpha\":0.1,\"line_width\":2}},\"muted_glyph\":{\"type\":\"object\",\"name\":\"Line\",\"id\":\"p1255\",\"attributes\":{\"x\":{\"type\":\"field\",\"field\":\"x\"},\"y\":{\"type\":\"field\",\"field\":\"y\"},\"line_color\":\"red\",\"line_alpha\":0.2,\"line_width\":2}}}}],\"toolbar\":{\"type\":\"object\",\"name\":\"Toolbar\",\"id\":\"p1204\",\"attributes\":{\"tools\":[{\"type\":\"object\",\"name\":\"PanTool\",\"id\":\"p1217\"},{\"type\":\"object\",\"name\":\"WheelZoomTool\",\"id\":\"p1218\",\"attributes\":{\"renderers\":\"auto\"}},{\"type\":\"object\",\"name\":\"BoxZoomTool\",\"id\":\"p1219\",\"attributes\":{\"overlay\":{\"type\":\"object\",\"name\":\"BoxAnnotation\",\"id\":\"p1220\",\"attributes\":{\"syncable\":false,\"line_color\":\"black\",\"line_alpha\":1.0,\"line_width\":2,\"line_dash\":[4,4],\"fill_color\":\"lightgrey\",\"fill_alpha\":0.5,\"level\":\"overlay\",\"visible\":false,\"left\":{\"type\":\"number\",\"value\":\"nan\"},\"right\":{\"type\":\"number\",\"value\":\"nan\"},\"top\":{\"type\":\"number\",\"value\":\"nan\"},\"bottom\":{\"type\":\"number\",\"value\":\"nan\"},\"left_units\":\"canvas\",\"right_units\":\"canvas\",\"top_units\":\"canvas\",\"bottom_units\":\"canvas\",\"handles\":{\"type\":\"object\",\"name\":\"BoxInteractionHandles\",\"id\":\"p1226\",\"attributes\":{\"all\":{\"type\":\"object\",\"name\":\"AreaVisuals\",\"id\":\"p1225\",\"attributes\":{\"fill_color\":\"white\",\"hover_fill_color\":\"lightgray\"}}}}}}}},{\"type\":\"object\",\"name\":\"ResetTool\",\"id\":\"p1227\"},{\"type\":\"object\",\"name\":\"SaveTool\",\"id\":\"p1228\"}]}},\"left\":[{\"type\":\"object\",\"name\":\"LinearAxis\",\"id\":\"p1212\",\"attributes\":{\"ticker\":{\"type\":\"object\",\"name\":\"BasicTicker\",\"id\":\"p1213\",\"attributes\":{\"mantissas\":[1,2,5]}},\"formatter\":{\"type\":\"object\",\"name\":\"BasicTickFormatter\",\"id\":\"p1214\"},\"axis_label\":\"Value of Microsoft Stock\",\"major_label_policy\":{\"type\":\"object\",\"name\":\"AllLabels\",\"id\":\"p1215\"}}}],\"below\":[{\"type\":\"object\",\"name\":\"LinearAxis\",\"id\":\"p1207\",\"attributes\":{\"ticker\":{\"type\":\"object\",\"name\":\"BasicTicker\",\"id\":\"p1208\",\"attributes\":{\"mantissas\":[1,2,5]}},\"formatter\":{\"type\":\"object\",\"name\":\"BasicTickFormatter\",\"id\":\"p1209\"},\"axis_label\":\"Days\",\"major_label_policy\":{\"type\":\"object\",\"name\":\"AllLabels\",\"id\":\"p1210\"}}}],\"center\":[{\"type\":\"object\",\"name\":\"Grid\",\"id\":\"p1211\",\"attributes\":{\"axis\":{\"id\":\"p1207\"}}},{\"type\":\"object\",\"name\":\"Grid\",\"id\":\"p1216\",\"attributes\":{\"dimension\":1,\"axis\":{\"id\":\"p1212\"}}},{\"type\":\"object\",\"name\":\"Legend\",\"id\":\"p1238\",\"attributes\":{\"location\":\"top_left\",\"click_policy\":\"hide\",\"items\":[{\"type\":\"object\",\"name\":\"LegendItem\",\"id\":\"p1239\",\"attributes\":{\"label\":{\"type\":\"value\",\"value\":\"True value\"},\"renderers\":[{\"id\":\"p1235\"}]}},{\"type\":\"object\",\"name\":\"LegendItem\",\"id\":\"p1249\",\"attributes\":{\"label\":{\"type\":\"value\",\"value\":\"Training set\"},\"renderers\":[{\"id\":\"p1246\"}]}},{\"type\":\"object\",\"name\":\"LegendItem\",\"id\":\"p1259\",\"attributes\":{\"label\":{\"type\":\"value\",\"value\":\"Test prediction\"},\"renderers\":[{\"id\":\"p1256\"}]}}]}}]}}]}};\n",
       "  const render_items = [{\"docid\":\"e9559dd0-f381-44b1-a997-707752edcabd\",\"roots\":{\"p1195\":\"e177ced4-28b8-482f-a583-7519d22bdf69\"},\"root_ids\":[\"p1195\"]}];\n",
       "  void root.Bokeh.embed.embed_items_notebook(docs_json, render_items);\n",
       "  }\n",
       "  if (root.Bokeh !== undefined) {\n",
       "    embed_document(root);\n",
       "  } else {\n",
       "    let attempts = 0;\n",
       "    const timer = setInterval(function(root) {\n",
       "      if (root.Bokeh !== undefined) {\n",
       "        clearInterval(timer);\n",
       "        embed_document(root);\n",
       "      } else {\n",
       "        attempts++;\n",
       "        if (attempts > 100) {\n",
       "          clearInterval(timer);\n",
       "          console.log(\"Bokeh: ERROR: Unable to run BokehJS code because BokehJS library is missing\");\n",
       "        }\n",
       "      }\n",
       "    }, 10, root)\n",
       "  }\n",
       "})(window);"
      ],
      "application/vnd.bokehjs_exec.v0+json": ""
     },
     "metadata": {
      "application/vnd.bokehjs_exec.v0+json": {
       "id": "p1195"
      }
     },
     "output_type": "display_data"
    }
   ],
   "source": [
    "pred_train = model.predict(X_train)\n",
    "pred_train = scaler.inverse_transform(pred_train)\n",
    "plot_series_prediction(mean_price_inv, pred_train, pred_test, time_ahead=TIME_AHEAD,\n",
    "                       title='LSTM prediction', xlabel='Days', ylabel='Value of Microsoft Stock', \n",
    "                       legend=['True value','Training set','Test prediction'])"
   ]
  },
  {
   "cell_type": "markdown",
   "id": "c109f4be-2343-41f9-abaf-164b5250de56",
   "metadata": {},
   "source": [
    "## BiLSTM\n"
   ]
  },
  {
   "cell_type": "markdown",
   "id": "2aa3d502-1e6d-4183-969b-de86eff64b11",
   "metadata": {},
   "source": [
    "#### Now we can try with a Bi-directional LSTM (BiLSTM).\n",
    "\n"
   ]
  },
  {
   "cell_type": "code",
   "execution_count": 33,
   "id": "c0daad56-cdc4-4848-b8ad-6788cfc5e0c3",
   "metadata": {},
   "outputs": [
    {
     "name": "stderr",
     "output_type": "stream",
     "text": [
      "C:\\Users\\andyv\\anaconda3\\Lib\\site-packages\\keras\\src\\layers\\rnn\\bidirectional.py:107: UserWarning: Do not pass an `input_shape`/`input_dim` argument to a layer. When using Sequential models, prefer using an `Input(shape)` object as the first layer in the model instead.\n",
      "  super().__init__(**kwargs)\n"
     ]
    }
   ],
   "source": [
    "\n",
    "model = create_symbol(model_name='BiLSTM', units=UNITS, time_ahead=TIME_AHEAD)\n",
    "model.compile(optimizer='adam', loss='mean_squared_error') "
   ]
  },
  {
   "cell_type": "code",
   "execution_count": 34,
   "id": "a469324b-e080-4639-9448-6321121e6365",
   "metadata": {},
   "outputs": [
    {
     "name": "stdout",
     "output_type": "stream",
     "text": [
      "Epoch 1/5\n",
      "1054/1054 - 2s - 2ms/step - loss: 0.0052\n",
      "Epoch 2/5\n",
      "1054/1054 - 1s - 1ms/step - loss: 9.1613e-05\n",
      "Epoch 3/5\n",
      "1054/1054 - 1s - 1ms/step - loss: 9.4491e-05\n",
      "Epoch 4/5\n",
      "1054/1054 - 1s - 1ms/step - loss: 9.3774e-05\n",
      "Epoch 5/5\n",
      "1054/1054 - 1s - 1ms/step - loss: 1.0361e-04\n"
     ]
    },
    {
     "data": {
      "text/plain": [
       "<keras.src.callbacks.history.History at 0x2277fc41910>"
      ]
     },
     "execution_count": 34,
     "metadata": {},
     "output_type": "execute_result"
    }
   ],
   "source": [
    "model.fit(X_train, y_train, epochs=EPOCHS, batch_size=1, verbose=2)\n"
   ]
  },
  {
   "cell_type": "code",
   "execution_count": 35,
   "id": "7e14a928-557f-409f-af3e-d1c86639b626",
   "metadata": {},
   "outputs": [
    {
     "name": "stdout",
     "output_type": "stream",
     "text": [
      "\u001b[1m15/15\u001b[0m \u001b[32m━━━━━━━━━━━━━━━━━━━━\u001b[0m\u001b[37m\u001b[0m \u001b[1m0s\u001b[0m 15ms/step\n",
      "Test RMSE: 0.70\n"
     ]
    }
   ],
   "source": [
    "pred_test = model.predict(X_test)\n",
    "pred_test = scaler.inverse_transform(pred_test)\n",
    "score = math.sqrt(mean_squared_error(y_test_inv[0], pred_test[:,0]))\n",
    "print('Test RMSE: %.2f' % (score))"
   ]
  },
  {
   "cell_type": "code",
   "execution_count": 36,
   "id": "2b39b4d3-9b44-40db-a757-f188218a9c86",
   "metadata": {},
   "outputs": [
    {
     "name": "stdout",
     "output_type": "stream",
     "text": [
      "\u001b[1m33/33\u001b[0m \u001b[32m━━━━━━━━━━━━━━━━━━━━\u001b[0m\u001b[37m\u001b[0m \u001b[1m0s\u001b[0m 2ms/step \n"
     ]
    },
    {
     "data": {
      "text/html": [
       "\n",
       "  <div id=\"f4003c60-4095-4e2f-8e9b-2a2d3e094ed9\" data-root-id=\"p1266\" style=\"display: contents;\"></div>\n"
      ]
     },
     "metadata": {},
     "output_type": "display_data"
    },
    {
     "data": {
      "application/javascript": [
       "(function(root) {\n",
       "  function embed_document(root) {\n",
       "  const docs_json = {\"e5fc9726-1f87-4073-a37b-8e8ea752b2a8\":{\"version\":\"3.6.0\",\"title\":\"Bokeh Application\",\"roots\":[{\"type\":\"object\",\"name\":\"Figure\",\"id\":\"p1266\",\"attributes\":{\"width\":900,\"height\":400,\"x_range\":{\"type\":\"object\",\"name\":\"DataRange1d\",\"id\":\"p1267\"},\"y_range\":{\"type\":\"object\",\"name\":\"DataRange1d\",\"id\":\"p1268\"},\"x_scale\":{\"type\":\"object\",\"name\":\"LinearScale\",\"id\":\"p1276\"},\"y_scale\":{\"type\":\"object\",\"name\":\"LinearScale\",\"id\":\"p1277\"},\"title\":{\"type\":\"object\",\"name\":\"Title\",\"id\":\"p1269\",\"attributes\":{\"text\":\"BiLSTM prediction\"}},\"renderers\":[{\"type\":\"object\",\"name\":\"GlyphRenderer\",\"id\":\"p1306\",\"attributes\":{\"data_source\":{\"type\":\"object\",\"name\":\"ColumnDataSource\",\"id\":\"p1300\",\"attributes\":{\"selected\":{\"type\":\"object\",\"name\":\"Selection\",\"id\":\"p1301\",\"attributes\":{\"indices\":[],\"line_indices\":[]}},\"selection_policy\":{\"type\":\"object\",\"name\":\"UnionRenderers\",\"id\":\"p1302\"},\"data\":{\"type\":\"map\",\"entries\":[[\"x\",{\"type\":\"ndarray\",\"array\":{\"type\":\"bytes\",\"data\":\"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\"},\"shape\":[1509],\"dtype\":\"int32\",\"order\":\"little\"}],[\"y\",{\"type\":\"ndarray\",\"array\":{\"type\":\"bytes\",\"data\":\"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\"},\"shape\":[1509],\"dtype\":\"float64\",\"order\":\"little\"}]]}}},\"view\":{\"type\":\"object\",\"name\":\"CDSView\",\"id\":\"p1307\",\"attributes\":{\"filter\":{\"type\":\"object\",\"name\":\"AllIndices\",\"id\":\"p1308\"}}},\"glyph\":{\"type\":\"object\",\"name\":\"Line\",\"id\":\"p1303\",\"attributes\":{\"x\":{\"type\":\"field\",\"field\":\"x\"},\"y\":{\"type\":\"field\",\"field\":\"y\"},\"line_color\":\"blue\",\"line_width\":2}},\"nonselection_glyph\":{\"type\":\"object\",\"name\":\"Line\",\"id\":\"p1304\",\"attributes\":{\"x\":{\"type\":\"field\",\"field\":\"x\"},\"y\":{\"type\":\"field\",\"field\":\"y\"},\"line_color\":\"blue\",\"line_alpha\":0.1,\"line_width\":2}},\"muted_glyph\":{\"type\":\"object\",\"name\":\"Line\",\"id\":\"p1305\",\"attributes\":{\"x\":{\"type\":\"field\",\"field\":\"x\"},\"y\":{\"type\":\"field\",\"field\":\"y\"},\"line_color\":\"blue\",\"line_alpha\":0.2,\"line_width\":2}}}},{\"type\":\"object\",\"name\":\"GlyphRenderer\",\"id\":\"p1317\",\"attributes\":{\"data_source\":{\"type\":\"object\",\"name\":\"ColumnDataSource\",\"id\":\"p1311\",\"attributes\":{\"selected\":{\"type\":\"object\",\"name\":\"Selection\",\"id\":\"p1312\",\"attributes\":{\"indices\":[],\"line_indices\":[]}},\"selection_policy\":{\"type\":\"object\",\"name\":\"UnionRenderers\",\"id\":\"p1313\"},\"data\":{\"type\":\"map\",\"entries\":[[\"x\",{\"type\":\"ndarray\",\"array\":{\"type\":\"bytes\",\"data\":\"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\"},\"shape\":[1054],\"dtype\":\"int32\",\"order\":\"little\"}],[\"y\",{\"type\":\"ndarray\",\"array\":{\"type\":\"bytes\",\"data\":\"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\"},\"shape\":[1054],\"dtype\":\"float32\",\"order\":\"little\"}]]}}},\"view\":{\"type\":\"object\",\"name\":\"CDSView\",\"id\":\"p1318\",\"attributes\":{\"filter\":{\"type\":\"object\",\"name\":\"AllIndices\",\"id\":\"p1319\"}}},\"glyph\":{\"type\":\"object\",\"name\":\"Line\",\"id\":\"p1314\",\"attributes\":{\"x\":{\"type\":\"field\",\"field\":\"x\"},\"y\":{\"type\":\"field\",\"field\":\"y\"},\"line_color\":\"green\",\"line_width\":2}},\"nonselection_glyph\":{\"type\":\"object\",\"name\":\"Line\",\"id\":\"p1315\",\"attributes\":{\"x\":{\"type\":\"field\",\"field\":\"x\"},\"y\":{\"type\":\"field\",\"field\":\"y\"},\"line_color\":\"green\",\"line_alpha\":0.1,\"line_width\":2}},\"muted_glyph\":{\"type\":\"object\",\"name\":\"Line\",\"id\":\"p1316\",\"attributes\":{\"x\":{\"type\":\"field\",\"field\":\"x\"},\"y\":{\"type\":\"field\",\"field\":\"y\"},\"line_color\":\"green\",\"line_alpha\":0.2,\"line_width\":2}}}},{\"type\":\"object\",\"name\":\"GlyphRenderer\",\"id\":\"p1327\",\"attributes\":{\"data_source\":{\"type\":\"object\",\"name\":\"ColumnDataSource\",\"id\":\"p1321\",\"attributes\":{\"selected\":{\"type\":\"object\",\"name\":\"Selection\",\"id\":\"p1322\",\"attributes\":{\"indices\":[],\"line_indices\":[]}},\"selection_policy\":{\"type\":\"object\",\"name\":\"UnionRenderers\",\"id\":\"p1323\"},\"data\":{\"type\":\"map\",\"entries\":[[\"x\",{\"type\":\"ndarray\",\"array\":{\"type\":\"bytes\",\"data\":\"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\"},\"shape\":[451],\"dtype\":\"int32\",\"order\":\"little\"}],[\"y\",{\"type\":\"ndarray\",\"array\":{\"type\":\"bytes\",\"data\":\"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\"},\"shape\":[451],\"dtype\":\"float32\",\"order\":\"little\"}]]}}},\"view\":{\"type\":\"object\",\"name\":\"CDSView\",\"id\":\"p1328\",\"attributes\":{\"filter\":{\"type\":\"object\",\"name\":\"AllIndices\",\"id\":\"p1329\"}}},\"glyph\":{\"type\":\"object\",\"name\":\"Line\",\"id\":\"p1324\",\"attributes\":{\"x\":{\"type\":\"field\",\"field\":\"x\"},\"y\":{\"type\":\"field\",\"field\":\"y\"},\"line_color\":\"red\",\"line_width\":2}},\"nonselection_glyph\":{\"type\":\"object\",\"name\":\"Line\",\"id\":\"p1325\",\"attributes\":{\"x\":{\"type\":\"field\",\"field\":\"x\"},\"y\":{\"type\":\"field\",\"field\":\"y\"},\"line_color\":\"red\",\"line_alpha\":0.1,\"line_width\":2}},\"muted_glyph\":{\"type\":\"object\",\"name\":\"Line\",\"id\":\"p1326\",\"attributes\":{\"x\":{\"type\":\"field\",\"field\":\"x\"},\"y\":{\"type\":\"field\",\"field\":\"y\"},\"line_color\":\"red\",\"line_alpha\":0.2,\"line_width\":2}}}}],\"toolbar\":{\"type\":\"object\",\"name\":\"Toolbar\",\"id\":\"p1275\",\"attributes\":{\"tools\":[{\"type\":\"object\",\"name\":\"PanTool\",\"id\":\"p1288\"},{\"type\":\"object\",\"name\":\"WheelZoomTool\",\"id\":\"p1289\",\"attributes\":{\"renderers\":\"auto\"}},{\"type\":\"object\",\"name\":\"BoxZoomTool\",\"id\":\"p1290\",\"attributes\":{\"overlay\":{\"type\":\"object\",\"name\":\"BoxAnnotation\",\"id\":\"p1291\",\"attributes\":{\"syncable\":false,\"line_color\":\"black\",\"line_alpha\":1.0,\"line_width\":2,\"line_dash\":[4,4],\"fill_color\":\"lightgrey\",\"fill_alpha\":0.5,\"level\":\"overlay\",\"visible\":false,\"left\":{\"type\":\"number\",\"value\":\"nan\"},\"right\":{\"type\":\"number\",\"value\":\"nan\"},\"top\":{\"type\":\"number\",\"value\":\"nan\"},\"bottom\":{\"type\":\"number\",\"value\":\"nan\"},\"left_units\":\"canvas\",\"right_units\":\"canvas\",\"top_units\":\"canvas\",\"bottom_units\":\"canvas\",\"handles\":{\"type\":\"object\",\"name\":\"BoxInteractionHandles\",\"id\":\"p1297\",\"attributes\":{\"all\":{\"type\":\"object\",\"name\":\"AreaVisuals\",\"id\":\"p1296\",\"attributes\":{\"fill_color\":\"white\",\"hover_fill_color\":\"lightgray\"}}}}}}}},{\"type\":\"object\",\"name\":\"ResetTool\",\"id\":\"p1298\"},{\"type\":\"object\",\"name\":\"SaveTool\",\"id\":\"p1299\"}]}},\"left\":[{\"type\":\"object\",\"name\":\"LinearAxis\",\"id\":\"p1283\",\"attributes\":{\"ticker\":{\"type\":\"object\",\"name\":\"BasicTicker\",\"id\":\"p1284\",\"attributes\":{\"mantissas\":[1,2,5]}},\"formatter\":{\"type\":\"object\",\"name\":\"BasicTickFormatter\",\"id\":\"p1285\"},\"axis_label\":\"Value of Microsoft Stock\",\"major_label_policy\":{\"type\":\"object\",\"name\":\"AllLabels\",\"id\":\"p1286\"}}}],\"below\":[{\"type\":\"object\",\"name\":\"LinearAxis\",\"id\":\"p1278\",\"attributes\":{\"ticker\":{\"type\":\"object\",\"name\":\"BasicTicker\",\"id\":\"p1279\",\"attributes\":{\"mantissas\":[1,2,5]}},\"formatter\":{\"type\":\"object\",\"name\":\"BasicTickFormatter\",\"id\":\"p1280\"},\"axis_label\":\"Days\",\"major_label_policy\":{\"type\":\"object\",\"name\":\"AllLabels\",\"id\":\"p1281\"}}}],\"center\":[{\"type\":\"object\",\"name\":\"Grid\",\"id\":\"p1282\",\"attributes\":{\"axis\":{\"id\":\"p1278\"}}},{\"type\":\"object\",\"name\":\"Grid\",\"id\":\"p1287\",\"attributes\":{\"dimension\":1,\"axis\":{\"id\":\"p1283\"}}},{\"type\":\"object\",\"name\":\"Legend\",\"id\":\"p1309\",\"attributes\":{\"location\":\"top_left\",\"click_policy\":\"hide\",\"items\":[{\"type\":\"object\",\"name\":\"LegendItem\",\"id\":\"p1310\",\"attributes\":{\"label\":{\"type\":\"value\",\"value\":\"True value\"},\"renderers\":[{\"id\":\"p1306\"}]}},{\"type\":\"object\",\"name\":\"LegendItem\",\"id\":\"p1320\",\"attributes\":{\"label\":{\"type\":\"value\",\"value\":\"Training set\"},\"renderers\":[{\"id\":\"p1317\"}]}},{\"type\":\"object\",\"name\":\"LegendItem\",\"id\":\"p1330\",\"attributes\":{\"label\":{\"type\":\"value\",\"value\":\"Test prediction\"},\"renderers\":[{\"id\":\"p1327\"}]}}]}}]}}]}};\n",
       "  const render_items = [{\"docid\":\"e5fc9726-1f87-4073-a37b-8e8ea752b2a8\",\"roots\":{\"p1266\":\"f4003c60-4095-4e2f-8e9b-2a2d3e094ed9\"},\"root_ids\":[\"p1266\"]}];\n",
       "  void root.Bokeh.embed.embed_items_notebook(docs_json, render_items);\n",
       "  }\n",
       "  if (root.Bokeh !== undefined) {\n",
       "    embed_document(root);\n",
       "  } else {\n",
       "    let attempts = 0;\n",
       "    const timer = setInterval(function(root) {\n",
       "      if (root.Bokeh !== undefined) {\n",
       "        clearInterval(timer);\n",
       "        embed_document(root);\n",
       "      } else {\n",
       "        attempts++;\n",
       "        if (attempts > 100) {\n",
       "          clearInterval(timer);\n",
       "          console.log(\"Bokeh: ERROR: Unable to run BokehJS code because BokehJS library is missing\");\n",
       "        }\n",
       "      }\n",
       "    }, 10, root)\n",
       "  }\n",
       "})(window);"
      ],
      "application/vnd.bokehjs_exec.v0+json": ""
     },
     "metadata": {
      "application/vnd.bokehjs_exec.v0+json": {
       "id": "p1266"
      }
     },
     "output_type": "display_data"
    }
   ],
   "source": [
    "pred_train = model.predict(X_train)\n",
    "pred_train = scaler.inverse_transform(pred_train)\n",
    "plot_series_prediction(mean_price_inv, pred_train, pred_test, time_ahead=TIME_AHEAD,\n",
    "                       title='BiLSTM prediction', xlabel='Days', ylabel='Value of Microsoft Stock', \n",
    "                       legend=['True value','Training set','Test prediction'])"
   ]
  },
  {
   "cell_type": "markdown",
   "id": "1a95ee4e-4c38-47b0-9e42-ed267d9f77b2",
   "metadata": {},
   "source": [
    "## GRU"
   ]
  },
  {
   "cell_type": "markdown",
   "id": "bc835d9b-5d79-4184-be14-426947b9c8e2",
   "metadata": {},
   "source": [
    "#### Finally, we are going to try with a Gated Recurrent Unit (GRU), which is a simplified version of LSTM.\n",
    "\n"
   ]
  },
  {
   "cell_type": "code",
   "execution_count": 38,
   "id": "8813ee5e-c24f-4853-bc63-4675a4ef7182",
   "metadata": {},
   "outputs": [
    {
     "name": "stderr",
     "output_type": "stream",
     "text": [
      "C:\\Users\\andyv\\anaconda3\\Lib\\site-packages\\keras\\src\\layers\\rnn\\bidirectional.py:107: UserWarning: Do not pass an `input_shape`/`input_dim` argument to a layer. When using Sequential models, prefer using an `Input(shape)` object as the first layer in the model instead.\n",
      "  super().__init__(**kwargs)\n"
     ]
    }
   ],
   "source": [
    "\n",
    "model = create_symbol(model_name='BiLSTM', units=UNITS, time_ahead=TIME_AHEAD)\n",
    "model.compile(optimizer='adam', loss='mean_squared_error') "
   ]
  },
  {
   "cell_type": "code",
   "execution_count": 39,
   "id": "3ea4d0c3-3da8-4973-a533-353fa6368bd8",
   "metadata": {},
   "outputs": [
    {
     "name": "stdout",
     "output_type": "stream",
     "text": [
      "Epoch 1/5\n",
      "1054/1054 - 2s - 2ms/step - loss: 0.0049\n",
      "Epoch 2/5\n",
      "1054/1054 - 1s - 938us/step - loss: 9.2245e-05\n",
      "Epoch 3/5\n",
      "1054/1054 - 1s - 1ms/step - loss: 9.8768e-05\n",
      "Epoch 4/5\n",
      "1054/1054 - 1s - 1ms/step - loss: 1.0189e-04\n",
      "Epoch 5/5\n",
      "1054/1054 - 1s - 973us/step - loss: 9.9161e-05\n"
     ]
    },
    {
     "data": {
      "text/plain": [
       "<keras.src.callbacks.history.History at 0x22703727440>"
      ]
     },
     "execution_count": 39,
     "metadata": {},
     "output_type": "execute_result"
    }
   ],
   "source": [
    "model.fit(X_train, y_train, epochs=EPOCHS, batch_size=1, verbose=2)\n"
   ]
  },
  {
   "cell_type": "code",
   "execution_count": 40,
   "id": "d84defcf-e4b4-432d-8821-ca187182ddc0",
   "metadata": {},
   "outputs": [
    {
     "name": "stdout",
     "output_type": "stream",
     "text": [
      "\u001b[1m15/15\u001b[0m \u001b[32m━━━━━━━━━━━━━━━━━━━━\u001b[0m\u001b[37m\u001b[0m \u001b[1m0s\u001b[0m 12ms/step\n",
      "Test RMSE: 0.83\n"
     ]
    }
   ],
   "source": [
    "\n",
    "pred_test = model.predict(X_test)\n",
    "pred_test = scaler.inverse_transform(pred_test)\n",
    "score = math.sqrt(mean_squared_error(y_test_inv[0], pred_test[:,0]))\n",
    "print('Test RMSE: %.2f' % (score))"
   ]
  },
  {
   "cell_type": "code",
   "execution_count": 41,
   "id": "ef3e055a-0d2d-405d-a86f-48a5ade66752",
   "metadata": {},
   "outputs": [
    {
     "name": "stdout",
     "output_type": "stream",
     "text": [
      "\u001b[1m33/33\u001b[0m \u001b[32m━━━━━━━━━━━━━━━━━━━━\u001b[0m\u001b[37m\u001b[0m \u001b[1m0s\u001b[0m 1ms/step \n"
     ]
    },
    {
     "data": {
      "text/html": [
       "\n",
       "  <div id=\"b8360115-8f87-43cf-80d1-083e76d97c2d\" data-root-id=\"p1337\" style=\"display: contents;\"></div>\n"
      ]
     },
     "metadata": {},
     "output_type": "display_data"
    },
    {
     "data": {
      "application/javascript": [
       "(function(root) {\n",
       "  function embed_document(root) {\n",
       "  const docs_json = {\"2ecdb562-4927-4d6a-af14-d5a30deebe4a\":{\"version\":\"3.6.0\",\"title\":\"Bokeh Application\",\"roots\":[{\"type\":\"object\",\"name\":\"Figure\",\"id\":\"p1337\",\"attributes\":{\"width\":900,\"height\":400,\"x_range\":{\"type\":\"object\",\"name\":\"DataRange1d\",\"id\":\"p1338\"},\"y_range\":{\"type\":\"object\",\"name\":\"DataRange1d\",\"id\":\"p1339\"},\"x_scale\":{\"type\":\"object\",\"name\":\"LinearScale\",\"id\":\"p1347\"},\"y_scale\":{\"type\":\"object\",\"name\":\"LinearScale\",\"id\":\"p1348\"},\"title\":{\"type\":\"object\",\"name\":\"Title\",\"id\":\"p1340\",\"attributes\":{\"text\":\"GRU prediction\"}},\"renderers\":[{\"type\":\"object\",\"name\":\"GlyphRenderer\",\"id\":\"p1377\",\"attributes\":{\"data_source\":{\"type\":\"object\",\"name\":\"ColumnDataSource\",\"id\":\"p1371\",\"attributes\":{\"selected\":{\"type\":\"object\",\"name\":\"Selection\",\"id\":\"p1372\",\"attributes\":{\"indices\":[],\"line_indices\":[]}},\"selection_policy\":{\"type\":\"object\",\"name\":\"UnionRenderers\",\"id\":\"p1373\"},\"data\":{\"type\":\"map\",\"entries\":[[\"x\",{\"type\":\"ndarray\",\"array\":{\"type\":\"bytes\",\"data\":\"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\"},\"shape\":[1509],\"dtype\":\"int32\",\"order\":\"little\"}],[\"y\",{\"type\":\"ndarray\",\"array\":{\"type\":\"bytes\",\"data\":\"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\"},\"shape\":[1509],\"dtype\":\"float64\",\"order\":\"little\"}]]}}},\"view\":{\"type\":\"object\",\"name\":\"CDSView\",\"id\":\"p1378\",\"attributes\":{\"filter\":{\"type\":\"object\",\"name\":\"AllIndices\",\"id\":\"p1379\"}}},\"glyph\":{\"type\":\"object\",\"name\":\"Line\",\"id\":\"p1374\",\"attributes\":{\"x\":{\"type\":\"field\",\"field\":\"x\"},\"y\":{\"type\":\"field\",\"field\":\"y\"},\"line_color\":\"blue\",\"line_width\":2}},\"nonselection_glyph\":{\"type\":\"object\",\"name\":\"Line\",\"id\":\"p1375\",\"attributes\":{\"x\":{\"type\":\"field\",\"field\":\"x\"},\"y\":{\"type\":\"field\",\"field\":\"y\"},\"line_color\":\"blue\",\"line_alpha\":0.1,\"line_width\":2}},\"muted_glyph\":{\"type\":\"object\",\"name\":\"Line\",\"id\":\"p1376\",\"attributes\":{\"x\":{\"type\":\"field\",\"field\":\"x\"},\"y\":{\"type\":\"field\",\"field\":\"y\"},\"line_color\":\"blue\",\"line_alpha\":0.2,\"line_width\":2}}}},{\"type\":\"object\",\"name\":\"GlyphRenderer\",\"id\":\"p1388\",\"attributes\":{\"data_source\":{\"type\":\"object\",\"name\":\"ColumnDataSource\",\"id\":\"p1382\",\"attributes\":{\"selected\":{\"type\":\"object\",\"name\":\"Selection\",\"id\":\"p1383\",\"attributes\":{\"indices\":[],\"line_indices\":[]}},\"selection_policy\":{\"type\":\"object\",\"name\":\"UnionRenderers\",\"id\":\"p1384\"},\"data\":{\"type\":\"map\",\"entries\":[[\"x\",{\"type\":\"ndarray\",\"array\":{\"type\":\"bytes\",\"data\":\"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\"},\"shape\":[1054],\"dtype\":\"int32\",\"order\":\"little\"}],[\"y\",{\"type\":\"ndarray\",\"array\":{\"type\":\"bytes\",\"data\":\"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\"},\"shape\":[1054],\"dtype\":\"float32\",\"order\":\"little\"}]]}}},\"view\":{\"type\":\"object\",\"name\":\"CDSView\",\"id\":\"p1389\",\"attributes\":{\"filter\":{\"type\":\"object\",\"name\":\"AllIndices\",\"id\":\"p1390\"}}},\"glyph\":{\"type\":\"object\",\"name\":\"Line\",\"id\":\"p1385\",\"attributes\":{\"x\":{\"type\":\"field\",\"field\":\"x\"},\"y\":{\"type\":\"field\",\"field\":\"y\"},\"line_color\":\"green\",\"line_width\":2}},\"nonselection_glyph\":{\"type\":\"object\",\"name\":\"Line\",\"id\":\"p1386\",\"attributes\":{\"x\":{\"type\":\"field\",\"field\":\"x\"},\"y\":{\"type\":\"field\",\"field\":\"y\"},\"line_color\":\"green\",\"line_alpha\":0.1,\"line_width\":2}},\"muted_glyph\":{\"type\":\"object\",\"name\":\"Line\",\"id\":\"p1387\",\"attributes\":{\"x\":{\"type\":\"field\",\"field\":\"x\"},\"y\":{\"type\":\"field\",\"field\":\"y\"},\"line_color\":\"green\",\"line_alpha\":0.2,\"line_width\":2}}}},{\"type\":\"object\",\"name\":\"GlyphRenderer\",\"id\":\"p1398\",\"attributes\":{\"data_source\":{\"type\":\"object\",\"name\":\"ColumnDataSource\",\"id\":\"p1392\",\"attributes\":{\"selected\":{\"type\":\"object\",\"name\":\"Selection\",\"id\":\"p1393\",\"attributes\":{\"indices\":[],\"line_indices\":[]}},\"selection_policy\":{\"type\":\"object\",\"name\":\"UnionRenderers\",\"id\":\"p1394\"},\"data\":{\"type\":\"map\",\"entries\":[[\"x\",{\"type\":\"ndarray\",\"array\":{\"type\":\"bytes\",\"data\":\"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\"},\"shape\":[451],\"dtype\":\"int32\",\"order\":\"little\"}],[\"y\",{\"type\":\"ndarray\",\"array\":{\"type\":\"bytes\",\"data\":\"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\"},\"shape\":[451],\"dtype\":\"float32\",\"order\":\"little\"}]]}}},\"view\":{\"type\":\"object\",\"name\":\"CDSView\",\"id\":\"p1399\",\"attributes\":{\"filter\":{\"type\":\"object\",\"name\":\"AllIndices\",\"id\":\"p1400\"}}},\"glyph\":{\"type\":\"object\",\"name\":\"Line\",\"id\":\"p1395\",\"attributes\":{\"x\":{\"type\":\"field\",\"field\":\"x\"},\"y\":{\"type\":\"field\",\"field\":\"y\"},\"line_color\":\"red\",\"line_width\":2}},\"nonselection_glyph\":{\"type\":\"object\",\"name\":\"Line\",\"id\":\"p1396\",\"attributes\":{\"x\":{\"type\":\"field\",\"field\":\"x\"},\"y\":{\"type\":\"field\",\"field\":\"y\"},\"line_color\":\"red\",\"line_alpha\":0.1,\"line_width\":2}},\"muted_glyph\":{\"type\":\"object\",\"name\":\"Line\",\"id\":\"p1397\",\"attributes\":{\"x\":{\"type\":\"field\",\"field\":\"x\"},\"y\":{\"type\":\"field\",\"field\":\"y\"},\"line_color\":\"red\",\"line_alpha\":0.2,\"line_width\":2}}}}],\"toolbar\":{\"type\":\"object\",\"name\":\"Toolbar\",\"id\":\"p1346\",\"attributes\":{\"tools\":[{\"type\":\"object\",\"name\":\"PanTool\",\"id\":\"p1359\"},{\"type\":\"object\",\"name\":\"WheelZoomTool\",\"id\":\"p1360\",\"attributes\":{\"renderers\":\"auto\"}},{\"type\":\"object\",\"name\":\"BoxZoomTool\",\"id\":\"p1361\",\"attributes\":{\"overlay\":{\"type\":\"object\",\"name\":\"BoxAnnotation\",\"id\":\"p1362\",\"attributes\":{\"syncable\":false,\"line_color\":\"black\",\"line_alpha\":1.0,\"line_width\":2,\"line_dash\":[4,4],\"fill_color\":\"lightgrey\",\"fill_alpha\":0.5,\"level\":\"overlay\",\"visible\":false,\"left\":{\"type\":\"number\",\"value\":\"nan\"},\"right\":{\"type\":\"number\",\"value\":\"nan\"},\"top\":{\"type\":\"number\",\"value\":\"nan\"},\"bottom\":{\"type\":\"number\",\"value\":\"nan\"},\"left_units\":\"canvas\",\"right_units\":\"canvas\",\"top_units\":\"canvas\",\"bottom_units\":\"canvas\",\"handles\":{\"type\":\"object\",\"name\":\"BoxInteractionHandles\",\"id\":\"p1368\",\"attributes\":{\"all\":{\"type\":\"object\",\"name\":\"AreaVisuals\",\"id\":\"p1367\",\"attributes\":{\"fill_color\":\"white\",\"hover_fill_color\":\"lightgray\"}}}}}}}},{\"type\":\"object\",\"name\":\"ResetTool\",\"id\":\"p1369\"},{\"type\":\"object\",\"name\":\"SaveTool\",\"id\":\"p1370\"}]}},\"left\":[{\"type\":\"object\",\"name\":\"LinearAxis\",\"id\":\"p1354\",\"attributes\":{\"ticker\":{\"type\":\"object\",\"name\":\"BasicTicker\",\"id\":\"p1355\",\"attributes\":{\"mantissas\":[1,2,5]}},\"formatter\":{\"type\":\"object\",\"name\":\"BasicTickFormatter\",\"id\":\"p1356\"},\"axis_label\":\"Value of Microsoft Stock\",\"major_label_policy\":{\"type\":\"object\",\"name\":\"AllLabels\",\"id\":\"p1357\"}}}],\"below\":[{\"type\":\"object\",\"name\":\"LinearAxis\",\"id\":\"p1349\",\"attributes\":{\"ticker\":{\"type\":\"object\",\"name\":\"BasicTicker\",\"id\":\"p1350\",\"attributes\":{\"mantissas\":[1,2,5]}},\"formatter\":{\"type\":\"object\",\"name\":\"BasicTickFormatter\",\"id\":\"p1351\"},\"axis_label\":\"Days\",\"major_label_policy\":{\"type\":\"object\",\"name\":\"AllLabels\",\"id\":\"p1352\"}}}],\"center\":[{\"type\":\"object\",\"name\":\"Grid\",\"id\":\"p1353\",\"attributes\":{\"axis\":{\"id\":\"p1349\"}}},{\"type\":\"object\",\"name\":\"Grid\",\"id\":\"p1358\",\"attributes\":{\"dimension\":1,\"axis\":{\"id\":\"p1354\"}}},{\"type\":\"object\",\"name\":\"Legend\",\"id\":\"p1380\",\"attributes\":{\"location\":\"top_left\",\"click_policy\":\"hide\",\"items\":[{\"type\":\"object\",\"name\":\"LegendItem\",\"id\":\"p1381\",\"attributes\":{\"label\":{\"type\":\"value\",\"value\":\"True value\"},\"renderers\":[{\"id\":\"p1377\"}]}},{\"type\":\"object\",\"name\":\"LegendItem\",\"id\":\"p1391\",\"attributes\":{\"label\":{\"type\":\"value\",\"value\":\"Training set\"},\"renderers\":[{\"id\":\"p1388\"}]}},{\"type\":\"object\",\"name\":\"LegendItem\",\"id\":\"p1401\",\"attributes\":{\"label\":{\"type\":\"value\",\"value\":\"Test prediction\"},\"renderers\":[{\"id\":\"p1398\"}]}}]}}]}}]}};\n",
       "  const render_items = [{\"docid\":\"2ecdb562-4927-4d6a-af14-d5a30deebe4a\",\"roots\":{\"p1337\":\"b8360115-8f87-43cf-80d1-083e76d97c2d\"},\"root_ids\":[\"p1337\"]}];\n",
       "  void root.Bokeh.embed.embed_items_notebook(docs_json, render_items);\n",
       "  }\n",
       "  if (root.Bokeh !== undefined) {\n",
       "    embed_document(root);\n",
       "  } else {\n",
       "    let attempts = 0;\n",
       "    const timer = setInterval(function(root) {\n",
       "      if (root.Bokeh !== undefined) {\n",
       "        clearInterval(timer);\n",
       "        embed_document(root);\n",
       "      } else {\n",
       "        attempts++;\n",
       "        if (attempts > 100) {\n",
       "          clearInterval(timer);\n",
       "          console.log(\"Bokeh: ERROR: Unable to run BokehJS code because BokehJS library is missing\");\n",
       "        }\n",
       "      }\n",
       "    }, 10, root)\n",
       "  }\n",
       "})(window);"
      ],
      "application/vnd.bokehjs_exec.v0+json": ""
     },
     "metadata": {
      "application/vnd.bokehjs_exec.v0+json": {
       "id": "p1337"
      }
     },
     "output_type": "display_data"
    }
   ],
   "source": [
    "\n",
    "pred_train = model.predict(X_train)\n",
    "pred_train = scaler.inverse_transform(pred_train)\n",
    "plot_series_prediction(mean_price_inv, pred_train, pred_test, time_ahead=TIME_AHEAD,\n",
    "                       title='GRU prediction', xlabel='Days', ylabel='Value of Microsoft Stock', \n",
    "                       legend=['True value','Training set','Test prediction'])"
   ]
  },
  {
   "cell_type": "markdown",
   "id": "3f027092-6008-42d3-a6b7-105f3cef1ad5",
   "metadata": {},
   "source": [
    "\n",
    "## Conclusion\n",
    "#### In this tutorial we have seen how a LSTM (or other variants) can be used to predict the stock price given a temporal series of values."
   ]
  },
  {
   "cell_type": "code",
   "execution_count": null,
   "id": "95490982-52fb-4c80-a040-f2cc1c3f69da",
   "metadata": {},
   "outputs": [],
   "source": []
  }
 ],
 "metadata": {
  "kernelspec": {
   "display_name": "Python 3 (ipykernel)",
   "language": "python",
   "name": "python3"
  },
  "language_info": {
   "codemirror_mode": {
    "name": "ipython",
    "version": 3
   },
   "file_extension": ".py",
   "mimetype": "text/x-python",
   "name": "python",
   "nbconvert_exporter": "python",
   "pygments_lexer": "ipython3",
   "version": "3.12.7"
  }
 },
 "nbformat": 4,
 "nbformat_minor": 5
}
